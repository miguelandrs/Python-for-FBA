{
 "cells": [
  {
   "cell_type": "markdown",
   "metadata": {
    "Collapsed": "true"
   },
   "source": [
    "# Assignment 1"
   ]
  },
  {
   "cell_type": "markdown",
   "metadata": {
    "Collapsed": "false"
   },
   "source": [
    "# Cost-Volume-Profit analysis"
   ]
  },
  {
   "cell_type": "markdown",
   "metadata": {
    "Collapsed": "true"
   },
   "source": [
    "## Publishing company"
   ]
  },
  {
   "cell_type": "markdown",
   "metadata": {
    "Collapsed": "false"
   },
   "source": [
    "- new magazine: profitability analysis  \n",
    "    - Customer demographics and desire  \n",
    "    - Competition (number of competitors, fragmentation, brand name)  \n",
    "    - Alignment with existing business strengths  \n",
    "    - Barriers to entry  \n",
    "    - Broader economic cycle  \n",
    "    - Business cycle stage  \n",
    "    - Advertising effectiveness  \n",
    "    - Opportunity cost  \n",
    "    - Costs and supply chain structure  \n",
    "    - Revenue sources  \n",
    "- You can charge \\\\$25 for an annual subscription of 50 issues.  \n",
    "- You can generate \\\\$1 in advertising revenue for each physical copy printed.  \n",
    "- Printing and distribution costs are \\\\$1 for each physical copy printed.  \n",
    "- Content development costs run \\\\$1 million per year.  \n",
    "- Let’s ignore newsstand sales and other revenue sources for now.  \n",
    "- Let’s ignore marketing expenses and other costs for now.  "
   ]
  },
  {
   "cell_type": "markdown",
   "metadata": {
    "Collapsed": "false"
   },
   "source": [
    "Subscription revenue per year = \\\\$25   \n",
    "Advertising revenue per year = \\\\$50  \n",
    "\\\\$1/issue x 50 issues  \n",
    "Yearly production and distribution costs = \\\\$50  \n",
    "profit from one incremental subscription = \\\\$25  \n",
    "\\\\$25 + \\\\$50 - \\\\$50  "
   ]
  },
  {
   "cell_type": "markdown",
   "metadata": {
    "Collapsed": "false"
   },
   "source": [
    "How many subscriptions would we need to sell in order to break even on this venture?  \n",
    "$TP = TR - TC$  \n",
    "Total costs = fixed costs + (unit variable cost × number of units)  \n",
    "Total revenue = sales price × number of unit  \n",
    "\n",
    "$TC = TFC + V * X$  \n",
    "$TR = P * X$  \n",
    "$Breakeven\\ Sales\\ Volume = \\frac{FC}{CM}$\n",
    "\n",
    "The Unit Contribution Margin (CM) is Unit Revenue (Price, P) minus Unit Variable Cost (V)  \n",
    "Contribution Margin is the incremental profit per unit\n"
   ]
  },
  {
   "cell_type": "code",
   "execution_count": 12,
   "metadata": {
    "Collapsed": "false"
   },
   "outputs": [
    {
     "name": "stdout",
     "output_type": "stream",
     "text": [
      "Contribution_margin = 25\n"
     ]
    }
   ],
   "source": [
    "unit_variable_cost = 50\n",
    "fixed_costs = 1_000_000\n",
    "subscription_revenue = 25\n",
    "advertising_revenue = 50\n",
    "Contribution_margin = subscription_revenue + advertising_revenue - unit_variable_cost\n",
    "print(f'Contribution_margin = {Contribution_margin}')"
   ]
  },
  {
   "cell_type": "code",
   "execution_count": null,
   "metadata": {
    "Collapsed": "false"
   },
   "outputs": [],
   "source": []
  },
  {
   "cell_type": "code",
   "execution_count": 14,
   "metadata": {
    "Collapsed": "false"
   },
   "outputs": [
    {
     "name": "stdout",
     "output_type": "stream",
     "text": [
      "breakeven_sales_volume = 40000.0\n"
     ]
    }
   ],
   "source": [
    "# breakeven_sales_volume = fixed_costs / Contribution_margin\n",
    "print(f'breakeven_sales_volume = {breakeven_sales_volume}')"
   ]
  },
  {
   "cell_type": "code",
   "execution_count": 17,
   "metadata": {
    "Collapsed": "false"
   },
   "outputs": [],
   "source": [
    "unit_mail_cost = 0.50\n",
    "response_rate = 0.02"
   ]
  },
  {
   "cell_type": "code",
   "execution_count": null,
   "metadata": {
    "Collapsed": "false"
   },
   "outputs": [],
   "source": [
    "response_cost = "
   ]
  },
  {
   "cell_type": "code",
   "execution_count": 18,
   "metadata": {
    "Collapsed": "false"
   },
   "outputs": [
    {
     "name": "stdout",
     "output_type": "stream",
     "text": [
      "response_cost = 25.0, the cost to sign up one subscriber\n"
     ]
    }
   ],
   "source": [
    "# response_cost = unit_mail_cost / response_rate\n",
    "print(f'response_cost = {response_cost}, the cost to sign up one subscriber')"
   ]
  },
  {
   "cell_type": "code",
   "execution_count": 20,
   "metadata": {
    "Collapsed": "false"
   },
   "outputs": [
    {
     "name": "stdout",
     "output_type": "stream",
     "text": [
      "contribution_margin = 0.0\n"
     ]
    }
   ],
   "source": [
    "# contribution_margin = subscription_revenue + advertising_revenue - unit_variable_cost - response_cost\n",
    "print(f'contribution_margin = {contribution_margin}')"
   ]
  },
  {
   "cell_type": "markdown",
   "metadata": {
    "Collapsed": "false"
   },
   "source": [
    "**improve profitability**  \n",
    "• Raise subscription prices  \n",
    "• Raise advertising rates  \n",
    "• Reduce production costs  \n",
    "• Increase response rate  \n",
    "• Include lifetime subscription value (renews and multi-year subscriptions), not just single year  \n",
    "• Increase advertising volume\n",
    "\n",
    "**encourage renewal**  \n",
    "• Price promotion  \n",
    "• Competitions  \n",
    "• Marketing  \n",
    "• Free gifts  "
   ]
  },
  {
   "cell_type": "code",
   "execution_count": 22,
   "metadata": {
    "Collapsed": "false"
   },
   "outputs": [],
   "source": [
    "# option 1\n",
    "sales_volume = breakeven_sales_volume\n",
    "unit_revenue = 25\n",
    "renewal_rate = .5"
   ]
  },
  {
   "cell_type": "raw",
   "metadata": {
    "Collapsed": "false"
   },
   "source": [
    "sales_volume * unit_revenue *  (renewal_rate + renewal_rate**2 + renewal_rate**3 ...)"
   ]
  },
  {
   "cell_type": "code",
   "execution_count": 27,
   "metadata": {
    "Collapsed": "false"
   },
   "outputs": [
    {
     "data": {
      "text/plain": [
       "2000000.0"
      ]
     },
     "execution_count": 27,
     "metadata": {},
     "output_type": "execute_result"
    }
   ],
   "source": [
    "sales_volume * unit_revenue * 1/(1-renewal_rate)"
   ]
  },
  {
   "cell_type": "code",
   "execution_count": 1,
   "metadata": {
    "Collapsed": "false"
   },
   "outputs": [],
   "source": [
    "# option 2"
   ]
  },
  {
   "cell_type": "code",
   "execution_count": 30,
   "metadata": {
    "Collapsed": "false"
   },
   "outputs": [],
   "source": [
    "option2_renewal_rate = .75"
   ]
  },
  {
   "cell_type": "code",
   "execution_count": 31,
   "metadata": {
    "Collapsed": "false"
   },
   "outputs": [
    {
     "data": {
      "text/plain": [
       "4000000.0"
      ]
     },
     "execution_count": 31,
     "metadata": {},
     "output_type": "execute_result"
    }
   ],
   "source": [
    "sales_volume * unit_revenue  * 1/(1-option2_renewal_rate)"
   ]
  },
  {
   "cell_type": "code",
   "execution_count": 29,
   "metadata": {
    "Collapsed": "false"
   },
   "outputs": [],
   "source": [
    "year_2_revenue_loss = sales_volume * unit_revenue * .75"
   ]
  },
  {
   "cell_type": "code",
   "execution_count": 32,
   "metadata": {
    "Collapsed": "false"
   },
   "outputs": [
    {
     "data": {
      "text/plain": [
       "3250000.0"
      ]
     },
     "execution_count": 32,
     "metadata": {},
     "output_type": "execute_result"
    }
   ],
   "source": [
    "sales_volume * unit_revenue  * 1/(1-option2_renewal_rate) - year_2_revenue_loss"
   ]
  },
  {
   "cell_type": "markdown",
   "metadata": {
    "Collapsed": "true"
   },
   "source": [
    "## Ice-cream company"
   ]
  },
  {
   "cell_type": "markdown",
   "metadata": {
    "Collapsed": "false"
   },
   "source": [
    "What are the key factors you would consider, when developing a strategy to grow profits for Ice Cream Corporation?\n",
    "\n",
    "**calculate total monthly profit**  \n",
    "Price per carton = \\\\$5  \n",
    "Cost per carton = \\\\$1  \n",
    "Demand = 100 cartons/month    \n",
    "fixed cost is negligible\n",
    "\n",
    "$PL = TR - TC$\n",
    "\n",
    "Total costs = fixed costs + (unit variable cost × number of units)  \n",
    "Total revenue = sales price × number of unit"
   ]
  },
  {
   "cell_type": "code",
   "execution_count": 7,
   "metadata": {
    "Collapsed": "false"
   },
   "outputs": [],
   "source": [
    "price_per_carton = 5\n",
    "cost_per_carton = 1\n",
    "sales_volume = 100 # per month\n",
    "fixed_cost = 0"
   ]
  },
  {
   "cell_type": "code",
   "execution_count": 8,
   "metadata": {
    "Collapsed": "false"
   },
   "outputs": [
    {
     "name": "stdout",
     "output_type": "stream",
     "text": [
      "total monthly profit = $400\n"
     ]
    }
   ],
   "source": [
    "# variable_cost = sales_volume * cost_per_carton\n",
    "# total_costs = fixed_cost + variable_cost\n",
    "# total_revenue = sales_volume * price_per_carton\n",
    "# total_profit = total_revenue - total_costs\n",
    "print(f'total monthly profit = ${total_profit}')"
   ]
  },
  {
   "cell_type": "markdown",
   "metadata": {
    "Collapsed": "false"
   },
   "source": [
    "role of promotional pricing  \n",
    "temporary to avoice price war  \n",
    "risk of \"stocking-up\" effect  "
   ]
  },
  {
   "cell_type": "code",
   "execution_count": 9,
   "metadata": {
    "Collapsed": "false"
   },
   "outputs": [],
   "source": [
    "elasticity = -4"
   ]
  },
  {
   "cell_type": "markdown",
   "metadata": {
    "Collapsed": "false"
   },
   "source": [
    "$Elasticity = \\frac{\\% change\\ quantity}{\\% change\\ price}$"
   ]
  },
  {
   "cell_type": "code",
   "execution_count": 13,
   "metadata": {
    "Collapsed": "false"
   },
   "outputs": [
    {
     "name": "stdout",
     "output_type": "stream",
     "text": [
      "sales volume increase due to promotion = 0.4\n"
     ]
    }
   ],
   "source": [
    "price_change = -.1\n",
    "quantity_change = price_change * elasticity\n",
    "print(f'sales volume increase due to promotion = {quantity_change}')"
   ]
  },
  {
   "cell_type": "code",
   "execution_count": 18,
   "metadata": {
    "Collapsed": "false"
   },
   "outputs": [
    {
     "name": "stdout",
     "output_type": "stream",
     "text": [
      "new price per carton = 4.5\n"
     ]
    }
   ],
   "source": [
    "new_price = price_per_carton + price_per_carton * price_change\n",
    "print(f'new price per carton = {new_price}')"
   ]
  },
  {
   "cell_type": "code",
   "execution_count": 25,
   "metadata": {
    "Collapsed": "false"
   },
   "outputs": [],
   "source": [
    "new_sales_volume = sales_volume * (1 + quantity_change) "
   ]
  },
  {
   "cell_type": "code",
   "execution_count": 26,
   "metadata": {
    "Collapsed": "false"
   },
   "outputs": [
    {
     "name": "stdout",
     "output_type": "stream",
     "text": [
      "total_revenue = 630.0\n"
     ]
    }
   ],
   "source": [
    "total_revenue = new_sales_volume * new_price\n",
    "print(f'total_revenue = {total_revenue}')"
   ]
  },
  {
   "cell_type": "code",
   "execution_count": 27,
   "metadata": {
    "Collapsed": "false"
   },
   "outputs": [
    {
     "name": "stdout",
     "output_type": "stream",
     "text": [
      "total monthly profit = $490.0\n"
     ]
    }
   ],
   "source": [
    "# variable_cost = new_sales_volume * cost_per_carton\n",
    "# total_costs = fixed_cost + variable_cost\n",
    "# total_profit = total_revenue - total_costs\n",
    "print(f'total monthly profit = ${total_profit}')"
   ]
  },
  {
   "cell_type": "code",
   "execution_count": 2,
   "metadata": {
    "Collapsed": "false"
   },
   "outputs": [],
   "source": [
    "import random"
   ]
  },
  {
   "cell_type": "code",
   "execution_count": 28,
   "metadata": {
    "Collapsed": "false"
   },
   "outputs": [
    {
     "data": {
      "text/plain": [
       "2"
      ]
     },
     "execution_count": 28,
     "metadata": {},
     "output_type": "execute_result"
    }
   ],
   "source": [
    "# roll of a die\n",
    "random.randint(1, 6)"
   ]
  },
  {
   "cell_type": "code",
   "execution_count": 32,
   "metadata": {
    "Collapsed": "false"
   },
   "outputs": [
    {
     "data": {
      "text/plain": [
       "3.5"
      ]
     },
     "execution_count": 32,
     "metadata": {},
     "output_type": "execute_result"
    }
   ],
   "source": [
    "# expected value of a dice roll\n",
    "e_v = 0\n",
    "for i in range(1,7):\n",
    "    outcome = i\n",
    "    probability = 1/6\n",
    "    e_v += outcome * probability\n",
    "e_v"
   ]
  },
  {
   "cell_type": "markdown",
   "metadata": {
    "Collapsed": "true",
    "toc-hr-collapsed": true
   },
   "source": [
    "# Probability"
   ]
  },
  {
   "cell_type": "markdown",
   "metadata": {
    "Collapsed": "true"
   },
   "source": [
    "## Coins"
   ]
  },
  {
   "cell_type": "markdown",
   "metadata": {
    "Collapsed": "false"
   },
   "source": [
    "What is the probability I would roll 30 heads in a row?"
   ]
  },
  {
   "cell_type": "code",
   "execution_count": null,
   "metadata": {
    "Collapsed": "false"
   },
   "outputs": [],
   "source": [
    "prob = "
   ]
  },
  {
   "cell_type": "markdown",
   "metadata": {
    "Collapsed": "false"
   },
   "source": [
    "## Dice"
   ]
  },
  {
   "cell_type": "markdown",
   "metadata": {
    "Collapsed": "false"
   },
   "source": [
    "What is the expected value of rolling a dice?"
   ]
  },
  {
   "cell_type": "code",
   "execution_count": null,
   "metadata": {
    "Collapsed": "false"
   },
   "outputs": [],
   "source": [
    "e_v ="
   ]
  },
  {
   "cell_type": "markdown",
   "metadata": {
    "Collapsed": "false"
   },
   "source": [
    "## Combinations and Permutations"
   ]
  },
  {
   "cell_type": "markdown",
   "metadata": {
    "Collapsed": "true"
   },
   "source": [
    "Picking a team of 5 people from a group of 25?"
   ]
  },
  {
   "cell_type": "code",
   "execution_count": null,
   "metadata": {
    "Collapsed": "false"
   },
   "outputs": [],
   "source": []
  },
  {
   "cell_type": "markdown",
   "metadata": {
    "Collapsed": "false"
   },
   "source": [
    "Pick a President/VP/Secretary from 15 candidates?"
   ]
  },
  {
   "cell_type": "code",
   "execution_count": null,
   "metadata": {
    "Collapsed": "false"
   },
   "outputs": [],
   "source": []
  }
 ],
 "metadata": {
  "kernelspec": {
   "display_name": "Python 3",
   "language": "python",
   "name": "python3"
  },
  "language_info": {
   "codemirror_mode": {
    "name": "ipython",
    "version": 3
   },
   "file_extension": ".py",
   "mimetype": "text/x-python",
   "name": "python",
   "nbconvert_exporter": "python",
   "pygments_lexer": "ipython3",
   "version": "3.7.4"
  }
 },
 "nbformat": 4,
 "nbformat_minor": 4
}
