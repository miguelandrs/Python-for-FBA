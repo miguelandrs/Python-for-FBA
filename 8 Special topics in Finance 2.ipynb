{
 "cells": [
  {
   "cell_type": "code",
   "execution_count": null,
   "metadata": {},
   "outputs": [],
   "source": [
    "# Yield Curves, Term Structure, Interest Rate Dynamics, Introduction to QuantLib"
   ]
  },
  {
   "cell_type": "code",
   "execution_count": 8,
   "metadata": {},
   "outputs": [],
   "source": [
    "import QuantLib as ql"
   ]
  },
  {
   "cell_type": "code",
   "execution_count": 9,
   "metadata": {},
   "outputs": [],
   "source": [
    "# Construct yield curve\n",
    "calc_date = ql.Date(1, 1, 2017)\n",
    "ql.Settings.instance().evaluationDate = calc_date\n",
    "\n",
    "spot_dates = [ql.Date(1,1,2017), ql.Date(1,1,2018), ql.Date(1,1,2027)]\n",
    "spot_rates = [0.04, 0.04, 0.04]"
   ]
  },
  {
   "cell_type": "code",
   "execution_count": 10,
   "metadata": {},
   "outputs": [],
   "source": [
    "day_count = ql.SimpleDayCounter()\n",
    "calendar = ql.NullCalendar()\n",
    "interpolation = ql.Linear()\n",
    "compounding = ql.Compounded\n",
    "compounding_frequency = ql.Annual\n",
    "spot_curve = ql.ZeroCurve(spot_dates, spot_rates, day_count, calendar, interpolation, compounding, compounding_frequency)\n",
    "\n",
    "spot_curve_handle = ql.YieldTermStructureHandle(spot_curve)"
   ]
  },
  {
   "cell_type": "code",
   "execution_count": 12,
   "metadata": {},
   "outputs": [],
   "source": [
    "# Construct bond schedule\n",
    "issue_date = ql.Date(1, 1, 2017)\n",
    "maturity_date = ql.Date(1, 1, 2022)\n",
    "tenor = ql.Period(ql.Semiannual)\n",
    "calendar = ql.NullCalendar()\n",
    "business_convention = ql.Unadjusted\n",
    "date_generation = ql.DateGeneration.Backward\n",
    "month_end = False\n",
    "\n",
    "schedule = ql.Schedule(issue_date, maturity_date, tenor, calendar, business_convention, business_convention, date_generation, month_end)"
   ]
  },
  {
   "cell_type": "code",
   "execution_count": 13,
   "metadata": {},
   "outputs": [],
   "source": [
    "# Create FixedRateBond Object\n",
    "coupon_rate = 0.05\n",
    "coupons = [coupon_rate]\n",
    "settlement_days = 0\n",
    "face_value = 100\n",
    "\n",
    "fixed_rate_bond = ql.FixedRateBond(settlement_days,\n",
    "                                face_value,\n",
    "                                schedule,\n",
    "                                coupons,\n",
    "                                day_count)"
   ]
  },
  {
   "cell_type": "code",
   "execution_count": 14,
   "metadata": {},
   "outputs": [
    {
     "name": "stdout",
     "output_type": "stream",
     "text": [
      "      July 1st, 2017     2.500000\n",
      "   January 1st, 2018     2.500000\n",
      "      July 1st, 2018     2.500000\n",
      "   January 1st, 2019     2.500000\n",
      "      July 1st, 2019     2.500000\n",
      "   January 1st, 2020     2.500000\n",
      "      July 1st, 2020     2.500000\n",
      "   January 1st, 2021     2.500000\n",
      "      July 1st, 2021     2.500000\n",
      "   January 1st, 2022     2.500000\n",
      "   January 1st, 2022   100.000000\n"
     ]
    }
   ],
   "source": [
    "for c in fixed_rate_bond.cashflows():\n",
    "    print('%20s %12f' % (c.date(), c.amount()))"
   ]
  },
  {
   "cell_type": "code",
   "execution_count": null,
   "metadata": {},
   "outputs": [],
   "source": [
    "# Set Valuation engine\n",
    "bond_engine = DiscountingBondEngine(spot_curve_handle)\n",
    "fixed_rate_bond.setPricingEngine(bond_engine)\n",
    "\n",
    "# Calculate present value\n",
    "value = fixed_rate_bond.NPV()\n",
    "print(value)"
   ]
  },
  {
   "cell_type": "code",
   "execution_count": null,
   "metadata": {},
   "outputs": [],
   "source": []
  },
  {
   "cell_type": "code",
   "execution_count": 1,
   "metadata": {},
   "outputs": [],
   "source": []
  },
  {
   "cell_type": "code",
   "execution_count": 1,
   "metadata": {},
   "outputs": [],
   "source": [
    "def print_curve(xlist, ylist, precision=3):\n",
    "    \"\"\"\n",
    "    Method to print curve in a nice format\n",
    "    \"\"\"\n",
    "    print(\"----------------------\")\n",
    "    print(\"Maturities\\tCurve\")\n",
    "    print(\"----------------------\")\n",
    "    for x,y in zip(xlist, ylist):\n",
    "        print(x,\"\\t\\t\", round(y, precision))\n",
    "    print(\"----------------------\")"
   ]
  },
  {
   "cell_type": "code",
   "execution_count": 2,
   "metadata": {},
   "outputs": [
    {
     "name": "stdout",
     "output_type": "stream",
     "text": [
      "----------------------\n",
      "Maturities\tCurve\n",
      "----------------------\n",
      "6M \t\t 5.25\n",
      "1Y \t\t 5.5\n",
      "1Y6M \t\t 5.75\n",
      "2Y \t\t 6.0\n",
      "2Y6M \t\t 6.25\n",
      "3Y \t\t 6.5\n",
      "3Y6M \t\t 6.75\n",
      "4Y \t\t 6.8\n",
      "4Y6M \t\t 7.0\n",
      "5Y \t\t 7.1\n",
      "5Y6M \t\t 7.15\n",
      "6Y \t\t 7.2\n",
      "6Y6M \t\t 7.3\n",
      "7Y \t\t 7.35\n",
      "7Y6M \t\t 7.4\n",
      "8Y \t\t 7.5\n",
      "8Y6M \t\t 7.6\n",
      "9Y \t\t 7.6\n",
      "9Y6M \t\t 7.7\n",
      "10Y \t\t 7.8\n",
      "----------------------\n"
     ]
    }
   ],
   "source": [
    "# Deposit rates\n",
    "depo_maturities = [ql.Period(6,ql.Months), ql.Period(12, ql.Months)]\n",
    "depo_rates = [5.25, 5.5]\n",
    "\n",
    "# Bond rates\n",
    "bond_maturities = [ql.Period(6*i, ql.Months) for i in range(3,21)]\n",
    "bond_rates = [5.75, 6.0, 6.25, 6.5, 6.75, 6.80, 7.00, 7.1, 7.15,\n",
    "              7.2, 7.3, 7.35, 7.4, 7.5, 7.6, 7.6, 7.7, 7.8]\n",
    "\n",
    "print_curve(depo_maturities+bond_maturities, depo_rates+bond_rates)"
   ]
  },
  {
   "cell_type": "code",
   "execution_count": 3,
   "metadata": {},
   "outputs": [],
   "source": [
    "# some constants and conventions\n",
    "# here we just assume for the sake of example\n",
    "# that some of the constants are the same for\n",
    "# depo rates and bond rates\n",
    "\n",
    "calc_date = ql.Date(15, 1, 2015)\n",
    "ql.Settings.instance().evaluationDate = calc_date\n",
    "\n",
    "calendar = ql.UnitedStates()\n",
    "bussiness_convention = ql.Unadjusted\n",
    "day_count = ql.Thirty360()\n",
    "end_of_month = True\n",
    "settlement_days = 0\n",
    "face_amount = 100\n",
    "coupon_frequency = ql.Period(ql.Semiannual)\n",
    "settlement_days = 0"
   ]
  },
  {
   "cell_type": "code",
   "execution_count": 4,
   "metadata": {},
   "outputs": [],
   "source": [
    "# create deposit rate helpers from depo_rates\n",
    "depo_helpers = [ql.DepositRateHelper(ql.QuoteHandle(ql.SimpleQuote(r/100.0)),\n",
    "                                     m,\n",
    "                                     settlement_days,\n",
    "                                     calendar,\n",
    "                                     bussiness_convention,\n",
    "                                     end_of_month,\n",
    "                                     day_count )\n",
    "                for r, m in zip(depo_rates, depo_maturities)]"
   ]
  },
  {
   "cell_type": "code",
   "execution_count": 5,
   "metadata": {},
   "outputs": [],
   "source": [
    "# create fixed rate bond helpers from fixed rate bonds\n",
    "bond_helpers = []\n",
    "for r, m in zip(bond_rates, bond_maturities):\n",
    "    termination_date = calc_date + m\n",
    "    schedule = ql.Schedule(calc_date,\n",
    "                   termination_date,\n",
    "                   coupon_frequency,\n",
    "                   calendar,\n",
    "                   bussiness_convention,\n",
    "                   bussiness_convention,\n",
    "                   ql.DateGeneration.Backward,\n",
    "                   end_of_month)\n",
    "\n",
    "    helper = ql.FixedRateBondHelper(ql.QuoteHandle(ql.SimpleQuote(face_amount)),\n",
    "                                        settlement_days,\n",
    "                                        face_amount,\n",
    "                                        schedule,\n",
    "                                        [r/100.0],\n",
    "                                        day_count,\n",
    "                                        bussiness_convention,\n",
    "                                        )\n",
    "    bond_helpers.append(helper)"
   ]
  },
  {
   "cell_type": "code",
   "execution_count": 6,
   "metadata": {},
   "outputs": [],
   "source": [
    "rate_helpers = depo_helpers + bond_helpers\n",
    "yieldcurve = ql.PiecewiseLogCubicDiscount(calc_date,\n",
    "                             rate_helpers,\n",
    "                             day_count)"
   ]
  },
  {
   "cell_type": "code",
   "execution_count": 7,
   "metadata": {},
   "outputs": [],
   "source": [
    "# get spot rates\n",
    "spots = []\n",
    "tenors = []\n",
    "for d in yieldcurve.dates():\n",
    "    yrs = day_count.yearFraction(calc_date, d)\n",
    "    compounding = ql.Compounded\n",
    "    freq = ql.Semiannual\n",
    "    zero_rate = yieldcurve.zeroRate(yrs, compounding, freq)\n",
    "    tenors.append(yrs)\n",
    "    eq_rate = zero_rate.equivalentRate(day_count,\n",
    "                                       compounding,\n",
    "                                       freq,\n",
    "                                       calc_date,\n",
    "                                       d).rate()\n",
    "    spots.append(100*eq_rate)"
   ]
  },
  {
   "cell_type": "code",
   "execution_count": null,
   "metadata": {},
   "outputs": [],
   "source": []
  }
 ],
 "metadata": {
  "kernelspec": {
   "display_name": "Python [conda env:edtech]",
   "language": "python",
   "name": "conda-env-edtech-py"
  },
  "language_info": {
   "codemirror_mode": {
    "name": "ipython",
    "version": 3
   },
   "file_extension": ".py",
   "mimetype": "text/x-python",
   "name": "python",
   "nbconvert_exporter": "python",
   "pygments_lexer": "ipython3",
   "version": "3.7.5"
  }
 },
 "nbformat": 4,
 "nbformat_minor": 4
}
