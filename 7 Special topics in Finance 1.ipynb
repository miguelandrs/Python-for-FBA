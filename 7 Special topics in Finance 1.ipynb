{
 "cells": [
  {
   "cell_type": "code",
   "execution_count": 2,
   "metadata": {
    "Collapsed": "false"
   },
   "outputs": [],
   "source": [
    "import pandas as pd\n",
    "import numpy as np"
   ]
  },
  {
   "cell_type": "markdown",
   "metadata": {
    "Collapsed": "false"
   },
   "source": [
    "Similar to Excel, NumPy has built-in financial functions:\n",
    "\n",
    "https://docs.scipy.org/doc/numpy-1.17.0/reference/routines.financial.html\n",
    "\n",
    "https://support.office.com/en-us/article/financial-functions-reference-5658d81e-6035-4f24-89c1-fbf124c2b1d8"
   ]
  },
  {
   "cell_type": "markdown",
   "metadata": {
    "Collapsed": "false"
   },
   "source": [
    "# Future Value\n",
    "**Future value** is the value in the future of a cash flow received or paid today. On a timeline, future values occur after (to the right of) their relevant cash flows.\n",
    "\n",
    "### $$FV_{n} = PV_{0}\\left(1+\\frac{i}{m}\\right)^{m \\times n}$$  \n",
    "\n",
    "where:  \n",
    "$FV_{n}$ = the future value after n years  \n",
    "$PV_{0}$ = the present value  \n",
    "$i$ = the stated annual rate of interest  \n",
    "$m$ = the number of compounding periods per year  \n",
    "$m \\times n$ = the total number of compounding periods (the number of years times the compounding periods per year)   \n",
    "\n",
    "Source: CFA® Program Curriculum, Volume 1\n",
    "\n",
    "<br><br>\n",
    "`numpy.fv` is the built-in implementation that we will use to solve the below example.\n",
    "\n",
    "**EXAMPLE: FV of a single sum**  \n",
    "Calculate the FV of a $200 investment at the end of two years if it earns an annually compounded rate\n",
    "of return of 10%."
   ]
  },
  {
   "cell_type": "code",
   "execution_count": 8,
   "metadata": {
    "Collapsed": "false"
   },
   "outputs": [
    {
     "data": {
      "text/plain": [
       "\u001b[1;31mSignature:\u001b[0m \u001b[0mnp\u001b[0m\u001b[1;33m.\u001b[0m\u001b[0mfv\u001b[0m\u001b[1;33m(\u001b[0m\u001b[0mrate\u001b[0m\u001b[1;33m,\u001b[0m \u001b[0mnper\u001b[0m\u001b[1;33m,\u001b[0m \u001b[0mpmt\u001b[0m\u001b[1;33m,\u001b[0m \u001b[0mpv\u001b[0m\u001b[1;33m,\u001b[0m \u001b[0mwhen\u001b[0m\u001b[1;33m=\u001b[0m\u001b[1;34m'end'\u001b[0m\u001b[1;33m)\u001b[0m\u001b[1;33m\u001b[0m\u001b[1;33m\u001b[0m\u001b[0m\n",
       "\u001b[1;31mDocstring:\u001b[0m\n",
       "Compute the future value.\n",
       "\n",
       "Given:\n",
       " * a present value, `pv`\n",
       " * an interest `rate` compounded once per period, of which\n",
       "   there are\n",
       " * `nper` total\n",
       " * a (fixed) payment, `pmt`, paid either\n",
       " * at the beginning (`when` = {'begin', 1}) or the end\n",
       "   (`when` = {'end', 0}) of each period\n",
       "\n",
       "Return:\n",
       "   the value at the end of the `nper` periods\n",
       "\n",
       "Parameters\n",
       "----------\n",
       "rate : scalar or array_like of shape(M, )\n",
       "    Rate of interest as decimal (not per cent) per period\n",
       "nper : scalar or array_like of shape(M, )\n",
       "    Number of compounding periods\n",
       "pmt : scalar or array_like of shape(M, )\n",
       "    Payment\n",
       "pv : scalar or array_like of shape(M, )\n",
       "    Present value\n",
       "when : {{'begin', 1}, {'end', 0}}, {string, int}, optional\n",
       "    When payments are due ('begin' (1) or 'end' (0)).\n",
       "    Defaults to {'end', 0}.\n",
       "\n",
       "Returns\n",
       "-------\n",
       "out : ndarray\n",
       "    Future values.  If all input is scalar, returns a scalar float.  If\n",
       "    any input is array_like, returns future values for each input element.\n",
       "    If multiple inputs are array_like, they all must have the same shape.\n",
       "\n",
       "Notes\n",
       "-----\n",
       "The future value is computed by solving the equation::\n",
       "\n",
       " fv +\n",
       " pv*(1+rate)**nper +\n",
       " pmt*(1 + rate*when)/rate*((1 + rate)**nper - 1) == 0\n",
       "\n",
       "or, when ``rate == 0``::\n",
       "\n",
       " fv + pv + pmt * nper == 0\n",
       "\n",
       "References\n",
       "----------\n",
       ".. [WRW] Wheeler, D. A., E. Rathke, and R. Weir (Eds.) (2009, May).\n",
       "   Open Document Format for Office Applications (OpenDocument)v1.2,\n",
       "   Part 2: Recalculated Formula (OpenFormula) Format - Annotated Version,\n",
       "   Pre-Draft 12. Organization for the Advancement of Structured Information\n",
       "   Standards (OASIS). Billerica, MA, USA. [ODT Document].\n",
       "   Available:\n",
       "   http://www.oasis-open.org/committees/documents.php?wg_abbrev=office-formula\n",
       "   OpenDocument-formula-20090508.odt\n",
       "\n",
       "Examples\n",
       "--------\n",
       "What is the future value after 10 years of saving $100 now, with\n",
       "an additional monthly savings of $100.  Assume the interest rate is\n",
       "5% (annually) compounded monthly?\n",
       "\n",
       ">>> np.fv(0.05/12, 10*12, -100, -100)\n",
       "15692.928894335748\n",
       "\n",
       "By convention, the negative sign represents cash flow out (i.e. money not\n",
       "available today).  Thus, saving $100 a month at 5% annual interest leads\n",
       "to $15,692.93 available to spend in 10 years.\n",
       "\n",
       "If any input is array_like, returns an array of equal shape.  Let's\n",
       "compare different interest rates from the example above.\n",
       "\n",
       ">>> a = np.array((0.05, 0.06, 0.07))/12\n",
       ">>> np.fv(a, 10*12, -100, -100)\n",
       "array([ 15692.92889434,  16569.87435405,  17509.44688102])\n",
       "\u001b[1;31mFile:\u001b[0m      c:\\users\\miguel\\anaconda3\\lib\\site-packages\\numpy\\lib\\financial.py\n",
       "\u001b[1;31mType:\u001b[0m      function\n"
      ]
     },
     "metadata": {},
     "output_type": "display_data"
    }
   ],
   "source": [
    "np.fv?"
   ]
  },
  {
   "cell_type": "code",
   "execution_count": 9,
   "metadata": {
    "Collapsed": "false"
   },
   "outputs": [
    {
     "data": {
      "text/plain": [
       "242.00000000000003"
      ]
     },
     "execution_count": 9,
     "metadata": {},
     "output_type": "execute_result"
    }
   ],
   "source": [
    "fv = np.fv(rate=0.10, nper=2, pmt=0, pv=-200);\n",
    "fv"
   ]
  },
  {
   "cell_type": "code",
   "execution_count": 10,
   "metadata": {
    "Collapsed": "false"
   },
   "outputs": [
    {
     "name": "stdout",
     "output_type": "stream",
     "text": [
      "FV = $242.0\n"
     ]
    }
   ],
   "source": [
    "print(f'FV = ${round(fv, 2)}')"
   ]
  },
  {
   "cell_type": "markdown",
   "metadata": {
    "Collapsed": "false"
   },
   "source": [
    "# Present Value\n",
    "### $$PV = \\frac{FV_{n}}{(1+i)^{n}}$$    \n",
    "\n",
    "where:  \n",
    "$FV_{n}$ = the future value after n years  \n",
    "$i$ = the stated annual rate of interest  \n",
    "$n$ = the number of compounding periods\n",
    "\n",
    "Source: CFA® Program Curriculum, Volume 1 \n",
    "<br><br>\n",
    "`numpy.pv` is the built-in implementation that we will use to solve the below example.\n",
    "\n",
    "**EXAMPLE: PV of a single sum**  \n",
    "Given a discount rate of 10%, calculate the PV of a $200 cash flow that will be received in two years."
   ]
  },
  {
   "cell_type": "code",
   "execution_count": 11,
   "metadata": {
    "Collapsed": "false"
   },
   "outputs": [
    {
     "data": {
      "text/plain": [
       "\u001b[1;31mSignature:\u001b[0m \u001b[0mnp\u001b[0m\u001b[1;33m.\u001b[0m\u001b[0mpv\u001b[0m\u001b[1;33m(\u001b[0m\u001b[0mrate\u001b[0m\u001b[1;33m,\u001b[0m \u001b[0mnper\u001b[0m\u001b[1;33m,\u001b[0m \u001b[0mpmt\u001b[0m\u001b[1;33m,\u001b[0m \u001b[0mfv\u001b[0m\u001b[1;33m=\u001b[0m\u001b[1;36m0\u001b[0m\u001b[1;33m,\u001b[0m \u001b[0mwhen\u001b[0m\u001b[1;33m=\u001b[0m\u001b[1;34m'end'\u001b[0m\u001b[1;33m)\u001b[0m\u001b[1;33m\u001b[0m\u001b[1;33m\u001b[0m\u001b[0m\n",
       "\u001b[1;31mDocstring:\u001b[0m\n",
       "Compute the present value.\n",
       "\n",
       "Given:\n",
       " * a future value, `fv`\n",
       " * an interest `rate` compounded once per period, of which\n",
       "   there are\n",
       " * `nper` total\n",
       " * a (fixed) payment, `pmt`, paid either\n",
       " * at the beginning (`when` = {'begin', 1}) or the end\n",
       "   (`when` = {'end', 0}) of each period\n",
       "\n",
       "Return:\n",
       "   the value now\n",
       "\n",
       "Parameters\n",
       "----------\n",
       "rate : array_like\n",
       "    Rate of interest (per period)\n",
       "nper : array_like\n",
       "    Number of compounding periods\n",
       "pmt : array_like\n",
       "    Payment\n",
       "fv : array_like, optional\n",
       "    Future value\n",
       "when : {{'begin', 1}, {'end', 0}}, {string, int}, optional\n",
       "    When payments are due ('begin' (1) or 'end' (0))\n",
       "\n",
       "Returns\n",
       "-------\n",
       "out : ndarray, float\n",
       "    Present value of a series of payments or investments.\n",
       "\n",
       "Notes\n",
       "-----\n",
       "The present value is computed by solving the equation::\n",
       "\n",
       " fv +\n",
       " pv*(1 + rate)**nper +\n",
       " pmt*(1 + rate*when)/rate*((1 + rate)**nper - 1) = 0\n",
       "\n",
       "or, when ``rate = 0``::\n",
       "\n",
       " fv + pv + pmt * nper = 0\n",
       "\n",
       "for `pv`, which is then returned.\n",
       "\n",
       "References\n",
       "----------\n",
       ".. [WRW] Wheeler, D. A., E. Rathke, and R. Weir (Eds.) (2009, May).\n",
       "   Open Document Format for Office Applications (OpenDocument)v1.2,\n",
       "   Part 2: Recalculated Formula (OpenFormula) Format - Annotated Version,\n",
       "   Pre-Draft 12. Organization for the Advancement of Structured Information\n",
       "   Standards (OASIS). Billerica, MA, USA. [ODT Document].\n",
       "   Available:\n",
       "   http://www.oasis-open.org/committees/documents.php?wg_abbrev=office-formula\n",
       "   OpenDocument-formula-20090508.odt\n",
       "\n",
       "Examples\n",
       "--------\n",
       "What is the present value (e.g., the initial investment)\n",
       "of an investment that needs to total $15692.93\n",
       "after 10 years of saving $100 every month?  Assume the\n",
       "interest rate is 5% (annually) compounded monthly.\n",
       "\n",
       ">>> np.pv(0.05/12, 10*12, -100, 15692.93)\n",
       "-100.00067131625819\n",
       "\n",
       "By convention, the negative sign represents cash flow out\n",
       "(i.e., money not available today).  Thus, to end up with\n",
       "$15,692.93 in 10 years saving $100 a month at 5% annual\n",
       "interest, one's initial deposit should also be $100.\n",
       "\n",
       "If any input is array_like, ``pv`` returns an array of equal shape.\n",
       "Let's compare different interest rates in the example above:\n",
       "\n",
       ">>> a = np.array((0.05, 0.04, 0.03))/12\n",
       ">>> np.pv(a, 10*12, -100, 15692.93)\n",
       "array([ -100.00067132,  -649.26771385, -1273.78633713])\n",
       "\n",
       "So, to end up with the same $15692.93 under the same $100 per month\n",
       "\"savings plan,\" for annual interest rates of 4% and 3%, one would\n",
       "need initial investments of $649.27 and $1273.79, respectively.\n",
       "\u001b[1;31mFile:\u001b[0m      c:\\users\\miguel\\anaconda3\\lib\\site-packages\\numpy\\lib\\financial.py\n",
       "\u001b[1;31mType:\u001b[0m      function\n"
      ]
     },
     "metadata": {},
     "output_type": "display_data"
    }
   ],
   "source": [
    "np.pv?"
   ]
  },
  {
   "cell_type": "code",
   "execution_count": 12,
   "metadata": {
    "Collapsed": "false"
   },
   "outputs": [
    {
     "data": {
      "text/plain": [
       "165.2892561983471"
      ]
     },
     "execution_count": 12,
     "metadata": {},
     "output_type": "execute_result"
    }
   ],
   "source": [
    "pv = np.pv(rate=0.10, nper=2, pmt=0, fv=-200);\n",
    "pv"
   ]
  },
  {
   "cell_type": "code",
   "execution_count": 13,
   "metadata": {
    "Collapsed": "false"
   },
   "outputs": [
    {
     "name": "stdout",
     "output_type": "stream",
     "text": [
      "PV = $165.29\n"
     ]
    }
   ],
   "source": [
    "print(f'PV = ${round(pv, 2)}')"
   ]
  },
  {
   "cell_type": "markdown",
   "metadata": {
    "Collapsed": "false"
   },
   "source": [
    "# Net Present Value (NPV)\n",
    "\n",
    "The **net present value** (NPV) of an investment project is the present value of expected\n",
    "cash inflows associated with the project less the present value of the project’s expected\n",
    "cash outflows, discounted at the appropriate cost of capital. NPV is the PV of the cash flows less the initial (time = 0) outlay.\n",
    "\n",
    "### $$NPV = \\sum_{t=0}^{N}\\frac{CF_{t}}{(1 + r)^{t}}$$\n",
    "\n",
    "where:  \n",
    "$CF_t$ = the expected net cash flow at time t  \n",
    "$N$ = the estimated life of the investment  \n",
    "$r$ = the discount rate (opportunity cost of capital)  \n",
    "\n",
    "Source: CFA® Program Curriculum, Volume 1\n",
    "<br><br><br>\n",
    "`numpy.npv` is the built-in implementation that we will use to solve the below example.\n",
    "\n",
    "**EXAMPLE: Computing NPV**  \n",
    "Calculate the NPV of an investment project with an initial cost of \\\\$5 million and positive cash flows of\n",
    "$1.6 million at the end of Year 1, \\\\$2.4 million at the end of Year 2, and \\\\$2.8 million at the end of Year 3. Use 12% as the discount rate."
   ]
  },
  {
   "cell_type": "code",
   "execution_count": 4,
   "metadata": {
    "Collapsed": "false"
   },
   "outputs": [
    {
     "data": {
      "text/plain": [
       "0.33482142857142794"
      ]
     },
     "execution_count": 4,
     "metadata": {},
     "output_type": "execute_result"
    }
   ],
   "source": [
    "npv = np.npv(0.12,[-5.0, 1.6, 2.4, 2.8]);\n",
    "npv"
   ]
  },
  {
   "cell_type": "code",
   "execution_count": 8,
   "metadata": {
    "Collapsed": "false"
   },
   "outputs": [
    {
     "name": "stdout",
     "output_type": "stream",
     "text": [
      "NPV = $334821.43\n"
     ]
    }
   ],
   "source": [
    "print(f'NPV = ${round(npv*1_000_000, 2)}')"
   ]
  },
  {
   "cell_type": "markdown",
   "metadata": {
    "Collapsed": "false"
   },
   "source": [
    "# Internal Rate of Return (IRR)\n",
    "The **internal rate of return** (IRR) is defined as the rate of return that equates the PV of\n",
    "an investment’s expected benefits (inflows) with the PV of its costs (outflows).\n",
    "\n",
    "### $$0 = \\sum_{t=0}^{N}\\frac{CF_{t}}{(1 + IRR)^{t}}$$\n",
    "\n",
    "Source: CFA® Program Curriculum, Volume 1\n",
    "\n",
    "`numpy.irr` is the built-in implementation that we will use to solve the below example.  \n",
    "What is the IRR for the investment described in the preceding example?\n"
   ]
  },
  {
   "cell_type": "code",
   "execution_count": 4,
   "metadata": {
    "Collapsed": "false"
   },
   "outputs": [],
   "source": [
    "irr = np.irr([-5.0, 1.6, 2.4, 2.8])"
   ]
  },
  {
   "cell_type": "code",
   "execution_count": 5,
   "metadata": {
    "Collapsed": "false"
   },
   "outputs": [
    {
     "data": {
      "text/plain": [
       "0.15517572757540488"
      ]
     },
     "execution_count": 5,
     "metadata": {},
     "output_type": "execute_result"
    }
   ],
   "source": [
    "irr"
   ]
  },
  {
   "cell_type": "code",
   "execution_count": 8,
   "metadata": {
    "Collapsed": "false"
   },
   "outputs": [
    {
     "name": "stdout",
     "output_type": "stream",
     "text": [
      "IRR = 15.52%\n"
     ]
    }
   ],
   "source": [
    "print(f'IRR = {round(irr*100, 2)}%')"
   ]
  },
  {
   "cell_type": "code",
   "execution_count": null,
   "metadata": {
    "Collapsed": "false"
   },
   "outputs": [],
   "source": []
  }
 ],
 "metadata": {
  "kernelspec": {
   "display_name": "Python 3",
   "language": "python",
   "name": "python3"
  },
  "language_info": {
   "codemirror_mode": {
    "name": "ipython",
    "version": 3
   },
   "file_extension": ".py",
   "mimetype": "text/x-python",
   "name": "python",
   "nbconvert_exporter": "python",
   "pygments_lexer": "ipython3",
   "version": "3.7.4"
  },
  "toc-autonumbering": true
 },
 "nbformat": 4,
 "nbformat_minor": 4
}
