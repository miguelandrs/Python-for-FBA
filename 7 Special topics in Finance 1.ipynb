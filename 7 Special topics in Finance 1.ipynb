{
 "cells": [
  {
   "cell_type": "code",
   "execution_count": null,
   "metadata": {
    "Collapsed": "false"
   },
   "outputs": [],
   "source": [
    "# Fixed-Income: Securities, Markets, Valuation, Cashflows, NPV (Net Present Value)"
   ]
  },
  {
   "cell_type": "code",
   "execution_count": 3,
   "metadata": {
    "Collapsed": "false"
   },
   "outputs": [],
   "source": [
    "import pandas as pd\n",
    "import numpy as np"
   ]
  },
  {
   "cell_type": "markdown",
   "metadata": {
    "Collapsed": "false"
   },
   "source": [
    "Similar to Excel, NumPy has built-in financial functions:\n",
    "\n",
    "https://docs.scipy.org/doc/numpy-1.17.0/reference/routines.financial.html\n",
    "\n",
    "https://support.office.com/en-us/article/financial-functions-reference-5658d81e-6035-4f24-89c1-fbf124c2b1d8"
   ]
  },
  {
   "cell_type": "markdown",
   "metadata": {
    "Collapsed": "false"
   },
   "source": [
    "What is the future value after 10 years of saving \\\\$100 now, with an additional monthly savings of $100. Assume the interest rate is 5% (annually) compounded monthly?"
   ]
  },
  {
   "cell_type": "code",
   "execution_count": null,
   "metadata": {
    "Collapsed": "false"
   },
   "outputs": [],
   "source": []
  },
  {
   "cell_type": "markdown",
   "metadata": {
    "Collapsed": "false"
   },
   "source": [
    "# Corporate Finance\n",
    "\n"
   ]
  },
  {
   "cell_type": "markdown",
   "metadata": {
    "Collapsed": "false"
   },
   "source": []
  },
  {
   "cell_type": "markdown",
   "metadata": {
    "Collapsed": "false"
   },
   "source": []
  },
  {
   "cell_type": "markdown",
   "metadata": {
    "Collapsed": "false"
   },
   "source": [
    "## Net Present Value (NPV)\n",
    "\n",
    "The **net present value** (NPV) of an investment project is the present value of expected\n",
    "cash inflows associated with the project less the present value of the project’s expected\n",
    "cash outflows, discounted at the appropriate cost of capital. NPV is the PV of the cash flows less the initial (time = 0) outlay.\n",
    "\n",
    "### $$NPV = \\sum_{t=0}^{N}\\frac{CF_{t}}{(1 + r)^{t}}$$\n",
    "\n",
    "where:  \n",
    "$CF_t$ = the expected net cash flow at time t  \n",
    "$N$ = the estimated life of the investment  \n",
    "$r$ = the discount rate (opportunity cost of capital)  \n",
    "\n",
    "Source: CFA® Program Curriculum, Volume 1, page 360\n",
    "<br><br><br>\n",
    "`numpy.npv` is the built-in implementation that we will use to solve the below example.\n",
    "\n",
    "**EXAMPLE: Computing NPV**  \n",
    "Calculate the NPV of an investment project with an initial cost of \\\\$5 million and positive cash flows of\n",
    "$1.6 million at the end of Year 1, \\\\$2.4 million at the end of Year 2, and \\\\$2.8 million at the end of Year 3. Use 12% as the discount rate."
   ]
  },
  {
   "cell_type": "code",
   "execution_count": 4,
   "metadata": {
    "Collapsed": "false"
   },
   "outputs": [
    {
     "data": {
      "text/plain": [
       "0.33482142857142794"
      ]
     },
     "execution_count": 4,
     "metadata": {},
     "output_type": "execute_result"
    }
   ],
   "source": [
    "npv = np.npv(0.12,[-5.0, 1.6, 2.4, 2.8]);\n",
    "npv"
   ]
  },
  {
   "cell_type": "code",
   "execution_count": 8,
   "metadata": {
    "Collapsed": "false"
   },
   "outputs": [
    {
     "name": "stdout",
     "output_type": "stream",
     "text": [
      "NPV = $334821.43\n"
     ]
    }
   ],
   "source": [
    "print(f'NPV = ${round(npv*1_000_000, 2)}')"
   ]
  },
  {
   "cell_type": "markdown",
   "metadata": {
    "Collapsed": "false"
   },
   "source": [
    "## Internal Rate of Return (IRR)"
   ]
  },
  {
   "cell_type": "code",
   "execution_count": null,
   "metadata": {
    "Collapsed": "false"
   },
   "outputs": [],
   "source": []
  }
 ],
 "metadata": {
  "kernelspec": {
   "display_name": "Python [conda env:pyfied]",
   "language": "python",
   "name": "conda-env-pyfied-py"
  },
  "language_info": {
   "codemirror_mode": {
    "name": "ipython",
    "version": 3
   },
   "file_extension": ".py",
   "mimetype": "text/x-python",
   "name": "python",
   "nbconvert_exporter": "python",
   "pygments_lexer": "ipython3",
   "version": "3.7.5"
  },
  "toc-autonumbering": true
 },
 "nbformat": 4,
 "nbformat_minor": 4
}
