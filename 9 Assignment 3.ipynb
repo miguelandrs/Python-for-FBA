{
 "cells": [
  {
   "cell_type": "code",
   "execution_count": 3,
   "metadata": {
    "Collapsed": "false"
   },
   "outputs": [],
   "source": [
    "import numpy as np\n",
    "import pandas as pd"
   ]
  },
  {
   "cell_type": "markdown",
   "metadata": {
    "Collapsed": "false"
   },
   "source": [
    "# Part 1: Time Value of Money"
   ]
  },
  {
   "cell_type": "markdown",
   "metadata": {
    "Collapsed": "false"
   },
   "source": [
    "## Future Value \n",
    "Calculate the FV of an \\\\$8000 investment at the end of two years if it earns an annually compounded rate\n",
    "of return of 14%."
   ]
  },
  {
   "cell_type": "code",
   "execution_count": null,
   "metadata": {
    "Collapsed": "false"
   },
   "outputs": [],
   "source": []
  },
  {
   "cell_type": "markdown",
   "metadata": {
    "Collapsed": "false"
   },
   "source": [
    "## Answer"
   ]
  },
  {
   "cell_type": "code",
   "execution_count": 5,
   "metadata": {
    "Collapsed": "false"
   },
   "outputs": [
    {
     "name": "stdout",
     "output_type": "stream",
     "text": [
      "FV = $10396.8\n"
     ]
    }
   ],
   "source": [
    "fv = np.fv(rate=0.14, nper=2, pmt=0, pv=-8000)\n",
    "print(f'FV = ${round(fv, 2)}')"
   ]
  },
  {
   "cell_type": "markdown",
   "metadata": {
    "Collapsed": "false"
   },
   "source": [
    "## PV of a bond’s cash flows\n",
    "A bond will make coupon interest payments of \\\\$400 dollars at the end of each year\n",
    "and will also pay its face value of $5,000 at maturity in six years. If the appropriate discount rate\n",
    "is 13%, what is the present value of the bond’s promised cash flows?"
   ]
  },
  {
   "cell_type": "code",
   "execution_count": null,
   "metadata": {
    "Collapsed": "false"
   },
   "outputs": [],
   "source": []
  },
  {
   "cell_type": "markdown",
   "metadata": {
    "Collapsed": "false"
   },
   "source": [
    "## Answer"
   ]
  },
  {
   "cell_type": "code",
   "execution_count": 24,
   "metadata": {
    "Collapsed": "false"
   },
   "outputs": [
    {
     "name": "stdout",
     "output_type": "stream",
     "text": [
      "PV = $4000.61\n"
     ]
    }
   ],
   "source": [
    "PV = np.pv(rate=.13, nper=6, pmt=400, fv=5000)\n",
    "print(f'PV = ${round(-PV, 2)}')"
   ]
  },
  {
   "cell_type": "markdown",
   "metadata": {
    "Collapsed": "false"
   },
   "source": [
    "A firm is considering the purchase of equipment that costs \\\\$10,000. Assume a\n",
    "required rate of return of 8% and the following cash flow schedule:\n",
    "- Year 1: \\\\$3,000.\n",
    "- Year 2: \\\\$2,000.\n",
    "- Year 3: \\\\$2,000.\n",
    "- Year 4: \\\\$3,000.\n",
    "- Year 5: \\\\$2,000.\n",
    "- Year 6: \\\\$2,000.\n",
    "\n",
    "What is the project’s NPV?"
   ]
  },
  {
   "cell_type": "code",
   "execution_count": 19,
   "metadata": {
    "Collapsed": "false"
   },
   "outputs": [
    {
     "name": "stdout",
     "output_type": "stream",
     "text": [
      "NPV = $906.72\n"
     ]
    }
   ],
   "source": [
    "npv = np.npv(0.08,[-10.0, 3.0, 2.0, 2.0, 3.0, 2.0, 2.0]);\n",
    "print(f'NPV = ${round(npv*1_000, 2)}')"
   ]
  },
  {
   "cell_type": "markdown",
   "metadata": {
    "Collapsed": "false"
   },
   "source": [
    "What is the project's IRR?"
   ]
  },
  {
   "cell_type": "code",
   "execution_count": 18,
   "metadata": {
    "Collapsed": "false"
   },
   "outputs": [
    {
     "name": "stdout",
     "output_type": "stream",
     "text": [
      "IRR = 11.08%\n"
     ]
    }
   ],
   "source": [
    "irr = np.irr([-10.0, 3.0, 2.0, 2.0, 3.0, 2.0, 2.0]);\n",
    "print(f'IRR = {round(irr*100, 2)}%')"
   ]
  },
  {
   "cell_type": "markdown",
   "metadata": {
    "Collapsed": "false"
   },
   "source": [
    "# Part 2: Loans"
   ]
  },
  {
   "cell_type": "markdown",
   "metadata": {
    "Collapsed": "false"
   },
   "source": [
    "Build an amortization schedule of a 15 year \\\\$500,000 loan with an annual interest rate of 3.0%."
   ]
  },
  {
   "cell_type": "code",
   "execution_count": null,
   "metadata": {
    "Collapsed": "false"
   },
   "outputs": [],
   "source": []
  },
  {
   "cell_type": "markdown",
   "metadata": {
    "Collapsed": "false"
   },
   "source": [
    "## Answer"
   ]
  },
  {
   "cell_type": "code",
   "execution_count": 8,
   "metadata": {
    "Collapsed": "false"
   },
   "outputs": [],
   "source": [
    "amortization = pd.DataFrame({'period':np.arange(12*15)+1})"
   ]
  },
  {
   "cell_type": "code",
   "execution_count": 10,
   "metadata": {
    "Collapsed": "false"
   },
   "outputs": [],
   "source": [
    "amortization['principal'] = np.abs(np.ppmt(rate=0.03/12, per=amortization.period, nper=12*15, pv=500000, fv=0))"
   ]
  },
  {
   "cell_type": "code",
   "execution_count": 9,
   "metadata": {
    "Collapsed": "false"
   },
   "outputs": [],
   "source": [
    "amortization['interest'] = np.abs(np.ipmt(rate=0.03/12, per=amortization.period, nper=12*15, pv=500000, fv=0))"
   ]
  },
  {
   "cell_type": "code",
   "execution_count": 13,
   "metadata": {
    "Collapsed": "false"
   },
   "outputs": [],
   "source": [
    "amortization['payment'] = amortization['principal'] + amortization['interest'] "
   ]
  },
  {
   "cell_type": "code",
   "execution_count": 14,
   "metadata": {
    "Collapsed": "false"
   },
   "outputs": [],
   "source": [
    "amortization['balance'] = 500000 - amortization['principal'].cumsum()"
   ]
  },
  {
   "cell_type": "code",
   "execution_count": 15,
   "metadata": {
    "Collapsed": "false"
   },
   "outputs": [],
   "source": [
    "pd.options.display.float_format = '{:,.2f}'.format"
   ]
  },
  {
   "cell_type": "code",
   "execution_count": 16,
   "metadata": {
    "Collapsed": "false"
   },
   "outputs": [
    {
     "data": {
      "text/html": [
       "<div>\n",
       "<style scoped>\n",
       "    .dataframe tbody tr th:only-of-type {\n",
       "        vertical-align: middle;\n",
       "    }\n",
       "\n",
       "    .dataframe tbody tr th {\n",
       "        vertical-align: top;\n",
       "    }\n",
       "\n",
       "    .dataframe thead th {\n",
       "        text-align: right;\n",
       "    }\n",
       "</style>\n",
       "<table border=\"1\" class=\"dataframe\">\n",
       "  <thead>\n",
       "    <tr style=\"text-align: right;\">\n",
       "      <th></th>\n",
       "      <th>period</th>\n",
       "      <th>interest</th>\n",
       "      <th>principal</th>\n",
       "      <th>payment</th>\n",
       "      <th>balance</th>\n",
       "    </tr>\n",
       "  </thead>\n",
       "  <tbody>\n",
       "    <tr>\n",
       "      <td>0</td>\n",
       "      <td>1</td>\n",
       "      <td>1,250.00</td>\n",
       "      <td>2,202.91</td>\n",
       "      <td>3,452.91</td>\n",
       "      <td>497,797.09</td>\n",
       "    </tr>\n",
       "    <tr>\n",
       "      <td>1</td>\n",
       "      <td>2</td>\n",
       "      <td>1,244.49</td>\n",
       "      <td>2,208.42</td>\n",
       "      <td>3,452.91</td>\n",
       "      <td>495,588.68</td>\n",
       "    </tr>\n",
       "    <tr>\n",
       "      <td>2</td>\n",
       "      <td>3</td>\n",
       "      <td>1,238.97</td>\n",
       "      <td>2,213.94</td>\n",
       "      <td>3,452.91</td>\n",
       "      <td>493,374.74</td>\n",
       "    </tr>\n",
       "    <tr>\n",
       "      <td>3</td>\n",
       "      <td>4</td>\n",
       "      <td>1,233.44</td>\n",
       "      <td>2,219.47</td>\n",
       "      <td>3,452.91</td>\n",
       "      <td>491,155.27</td>\n",
       "    </tr>\n",
       "    <tr>\n",
       "      <td>4</td>\n",
       "      <td>5</td>\n",
       "      <td>1,227.89</td>\n",
       "      <td>2,225.02</td>\n",
       "      <td>3,452.91</td>\n",
       "      <td>488,930.25</td>\n",
       "    </tr>\n",
       "    <tr>\n",
       "      <td>...</td>\n",
       "      <td>...</td>\n",
       "      <td>...</td>\n",
       "      <td>...</td>\n",
       "      <td>...</td>\n",
       "      <td>...</td>\n",
       "    </tr>\n",
       "    <tr>\n",
       "      <td>175</td>\n",
       "      <td>176</td>\n",
       "      <td>42.84</td>\n",
       "      <td>3,410.07</td>\n",
       "      <td>3,452.91</td>\n",
       "      <td>13,725.74</td>\n",
       "    </tr>\n",
       "    <tr>\n",
       "      <td>176</td>\n",
       "      <td>177</td>\n",
       "      <td>34.31</td>\n",
       "      <td>3,418.59</td>\n",
       "      <td>3,452.91</td>\n",
       "      <td>10,307.15</td>\n",
       "    </tr>\n",
       "    <tr>\n",
       "      <td>177</td>\n",
       "      <td>178</td>\n",
       "      <td>25.77</td>\n",
       "      <td>3,427.14</td>\n",
       "      <td>3,452.91</td>\n",
       "      <td>6,880.01</td>\n",
       "    </tr>\n",
       "    <tr>\n",
       "      <td>178</td>\n",
       "      <td>179</td>\n",
       "      <td>17.20</td>\n",
       "      <td>3,435.71</td>\n",
       "      <td>3,452.91</td>\n",
       "      <td>3,444.30</td>\n",
       "    </tr>\n",
       "    <tr>\n",
       "      <td>179</td>\n",
       "      <td>180</td>\n",
       "      <td>8.61</td>\n",
       "      <td>3,444.30</td>\n",
       "      <td>3,452.91</td>\n",
       "      <td>-0.00</td>\n",
       "    </tr>\n",
       "  </tbody>\n",
       "</table>\n",
       "<p>180 rows × 5 columns</p>\n",
       "</div>"
      ],
      "text/plain": [
       "     period  interest  principal  payment    balance\n",
       "0         1  1,250.00   2,202.91 3,452.91 497,797.09\n",
       "1         2  1,244.49   2,208.42 3,452.91 495,588.68\n",
       "2         3  1,238.97   2,213.94 3,452.91 493,374.74\n",
       "3         4  1,233.44   2,219.47 3,452.91 491,155.27\n",
       "4         5  1,227.89   2,225.02 3,452.91 488,930.25\n",
       "..      ...       ...        ...      ...        ...\n",
       "175     176     42.84   3,410.07 3,452.91  13,725.74\n",
       "176     177     34.31   3,418.59 3,452.91  10,307.15\n",
       "177     178     25.77   3,427.14 3,452.91   6,880.01\n",
       "178     179     17.20   3,435.71 3,452.91   3,444.30\n",
       "179     180      8.61   3,444.30 3,452.91      -0.00\n",
       "\n",
       "[180 rows x 5 columns]"
      ]
     },
     "execution_count": 16,
     "metadata": {},
     "output_type": "execute_result"
    }
   ],
   "source": [
    "amortization"
   ]
  }
 ],
 "metadata": {
  "kernelspec": {
   "display_name": "Python 3",
   "language": "python",
   "name": "python3"
  },
  "language_info": {
   "codemirror_mode": {
    "name": "ipython",
    "version": 3
   },
   "file_extension": ".py",
   "mimetype": "text/x-python",
   "name": "python",
   "nbconvert_exporter": "python",
   "pygments_lexer": "ipython3",
   "version": "3.7.4"
  }
 },
 "nbformat": 4,
 "nbformat_minor": 4
}
