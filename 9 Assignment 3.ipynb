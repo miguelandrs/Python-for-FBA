{
 "cells": [
  {
   "cell_type": "code",
   "execution_count": 4,
   "metadata": {},
   "outputs": [],
   "source": [
    "import numpy as np\n",
    "import pandas as pd"
   ]
  },
  {
   "cell_type": "markdown",
   "metadata": {},
   "source": [
    "# Part 1: Time Value of Money"
   ]
  },
  {
   "cell_type": "markdown",
   "metadata": {},
   "source": [
    "Calculate the FV of a $200 investment at the end of two years if it earns an annually compounded rate\n",
    "of return of 10%."
   ]
  },
  {
   "cell_type": "code",
   "execution_count": 9,
   "metadata": {},
   "outputs": [
    {
     "name": "stdout",
     "output_type": "stream",
     "text": [
      "PV = $242.0\n"
     ]
    }
   ],
   "source": [
    "fv = np.fv(rate=0.10, nper=2, pmt=0, pv=-200)\n",
    "print(f'PV = ${round(fv, 2)}')"
   ]
  },
  {
   "cell_type": "markdown",
   "metadata": {},
   "source": [
    "**PV of a bond’s cash flows**  \n",
    "A bond will make coupon interest payments of 70 euros (7% of its face value) at the end of each year\n",
    "and will also pay its face value of 1,000 euros at maturity in six years. If the appropriate discount rate\n",
    "is 8%, what is the present value of the bond’s promised cash flows?"
   ]
  },
  {
   "cell_type": "code",
   "execution_count": 13,
   "metadata": {},
   "outputs": [
    {
     "name": "stdout",
     "output_type": "stream",
     "text": [
      "PV = $953.77\n"
     ]
    }
   ],
   "source": [
    "PV = np.pv(rate=.08, nper=6, pmt=70, fv=1000)\n",
    "print(f'PV = ${round(-PV, 2)}')"
   ]
  },
  {
   "cell_type": "markdown",
   "metadata": {},
   "source": [
    "A company is considering the purchase of a copier that costs \\\\$5,000. Assume a\n",
    "required rate of return of 10% and the following cash flow schedule:\n",
    "- Year 1: \\\\$3,000.\n",
    "- Year 2: \\\\$2,000.\n",
    "- Year 3: \\\\$2,000.\n",
    "\n",
    "What is the project’s NPV?"
   ]
  },
  {
   "cell_type": "code",
   "execution_count": 5,
   "metadata": {},
   "outputs": [
    {
     "name": "stdout",
     "output_type": "stream",
     "text": [
      "NPV = $882.79\n"
     ]
    }
   ],
   "source": [
    "npv = np.npv(0.10,[-5.0, 3.0, 2.0, 2.0]);\n",
    "print(f'NPV = ${round(npv*1_000, 2)}')"
   ]
  },
  {
   "cell_type": "markdown",
   "metadata": {},
   "source": [
    "What is the project's IRR?"
   ]
  },
  {
   "cell_type": "code",
   "execution_count": 6,
   "metadata": {},
   "outputs": [
    {
     "name": "stdout",
     "output_type": "stream",
     "text": [
      "IRR = 20.64%\n"
     ]
    }
   ],
   "source": [
    "irr = np.irr([-5.0, 3.0, 2.0, 2.0]);\n",
    "print(f'IRR = {round(irr*100, 2)}%')"
   ]
  },
  {
   "cell_type": "code",
   "execution_count": null,
   "metadata": {},
   "outputs": [],
   "source": []
  },
  {
   "cell_type": "code",
   "execution_count": null,
   "metadata": {},
   "outputs": [],
   "source": []
  }
 ],
 "metadata": {
  "kernelspec": {
   "display_name": "Python 3",
   "language": "python",
   "name": "python3"
  },
  "language_info": {
   "codemirror_mode": {
    "name": "ipython",
    "version": 3
   },
   "file_extension": ".py",
   "mimetype": "text/x-python",
   "name": "python",
   "nbconvert_exporter": "python",
   "pygments_lexer": "ipython3",
   "version": "3.7.4"
  }
 },
 "nbformat": 4,
 "nbformat_minor": 4
}
