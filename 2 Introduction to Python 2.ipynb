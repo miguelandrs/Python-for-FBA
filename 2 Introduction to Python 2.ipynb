{
 "cells": [
  {
   "cell_type": "markdown",
   "metadata": {
    "Collapsed": "false"
   },
   "source": [
    "# Functions"
   ]
  },
  {
   "cell_type": "markdown",
   "metadata": {
    "Collapsed": "false"
   },
   "source": [
    "Functions allow you to write some code once, and reuse it later as many times as you want. It cuts down on repeating yourself during coding.\n",
    "\n",
    "We have already used standard library functions such as `print` and those in the `math` package. But here is how we can write our own:"
   ]
  },
  {
   "cell_type": "code",
   "execution_count": 2,
   "metadata": {
    "Collapsed": "false"
   },
   "outputs": [],
   "source": [
    "def calc_fv(PV, I, N):\n",
    "    \"\"\"\n",
    "    Calculates future value.\n",
    "        PV (float): present value\n",
    "        I (float): interest rate\n",
    "        N (int): number of periods\n",
    "    \n",
    "    returns\n",
    "        (float) : future value\n",
    "    \"\"\"\n",
    "    return PV * (1+I)**N"
   ]
  },
  {
   "cell_type": "code",
   "execution_count": 3,
   "metadata": {
    "Collapsed": "false"
   },
   "outputs": [
    {
     "data": {
      "text/plain": [
       "1842.015427499149"
      ]
     },
     "execution_count": 3,
     "metadata": {},
     "output_type": "execute_result"
    }
   ],
   "source": [
    "calc_fv(PV=100, I=0.06,N=50)"
   ]
  },
  {
   "cell_type": "markdown",
   "metadata": {
    "Collapsed": "false"
   },
   "source": [
    "Note that \"\"\"this is a docstring\"\"\", a special type of (optional) comment.\n",
    "\n",
    "There are 2 special \"magic\" commands that come with Jupyter Notebooks/IPython: `?` and `??`\n",
    "\n",
    "https://ipython.readthedocs.io/en/stable/interactive/magics.html#line-magics"
   ]
  },
  {
   "cell_type": "code",
   "execution_count": 4,
   "metadata": {
    "Collapsed": "false"
   },
   "outputs": [
    {
     "data": {
      "text/plain": [
       "\u001b[1;31mSignature:\u001b[0m \u001b[0mcalc_fv\u001b[0m\u001b[1;33m(\u001b[0m\u001b[0mPV\u001b[0m\u001b[1;33m,\u001b[0m \u001b[0mI\u001b[0m\u001b[1;33m,\u001b[0m \u001b[0mN\u001b[0m\u001b[1;33m)\u001b[0m\u001b[1;33m\u001b[0m\u001b[1;33m\u001b[0m\u001b[0m\n",
       "\u001b[1;31mDocstring:\u001b[0m\n",
       "Calculates future value.\n",
       "    PV (float): present value\n",
       "    I (float): interest rate\n",
       "    N (int): number of periods\n",
       "\n",
       "returns\n",
       "    (float) : future value\n",
       "\u001b[1;31mFile:\u001b[0m      c:\\users\\miguel\\workspace\\python-for-fba\\<ipython-input-2-7dd17eb7154c>\n",
       "\u001b[1;31mType:\u001b[0m      function\n"
      ]
     },
     "metadata": {},
     "output_type": "display_data"
    }
   ],
   "source": [
    "calc_fv?"
   ]
  },
  {
   "cell_type": "code",
   "execution_count": 5,
   "metadata": {
    "Collapsed": "false"
   },
   "outputs": [
    {
     "data": {
      "text/plain": [
       "\u001b[1;31mSignature:\u001b[0m \u001b[0mcalc_fv\u001b[0m\u001b[1;33m(\u001b[0m\u001b[0mPV\u001b[0m\u001b[1;33m,\u001b[0m \u001b[0mI\u001b[0m\u001b[1;33m,\u001b[0m \u001b[0mN\u001b[0m\u001b[1;33m)\u001b[0m\u001b[1;33m\u001b[0m\u001b[1;33m\u001b[0m\u001b[0m\n",
       "\u001b[1;31mSource:\u001b[0m   \n",
       "\u001b[1;32mdef\u001b[0m \u001b[0mcalc_fv\u001b[0m\u001b[1;33m(\u001b[0m\u001b[0mPV\u001b[0m\u001b[1;33m,\u001b[0m \u001b[0mI\u001b[0m\u001b[1;33m,\u001b[0m \u001b[0mN\u001b[0m\u001b[1;33m)\u001b[0m\u001b[1;33m:\u001b[0m\u001b[1;33m\n",
       "\u001b[0m    \u001b[1;34m\"\"\"\n",
       "    Calculates future value.\n",
       "        PV (float): present value\n",
       "        I (float): interest rate\n",
       "        N (int): number of periods\n",
       "    \n",
       "    returns\n",
       "        (float) : future value\n",
       "    \"\"\"\u001b[0m\u001b[1;33m\n",
       "\u001b[0m    \u001b[1;32mreturn\u001b[0m \u001b[0mPV\u001b[0m \u001b[1;33m*\u001b[0m \u001b[1;33m(\u001b[0m\u001b[1;36m1\u001b[0m\u001b[1;33m+\u001b[0m\u001b[0mI\u001b[0m\u001b[1;33m)\u001b[0m\u001b[1;33m**\u001b[0m\u001b[0mN\u001b[0m\u001b[1;33m\u001b[0m\u001b[1;33m\u001b[0m\u001b[0m\n",
       "\u001b[1;31mFile:\u001b[0m      c:\\users\\miguel\\workspace\\python-for-fba\\<ipython-input-2-7dd17eb7154c>\n",
       "\u001b[1;31mType:\u001b[0m      function\n"
      ]
     },
     "metadata": {},
     "output_type": "display_data"
    }
   ],
   "source": [
    "calc_fv??"
   ]
  },
  {
   "cell_type": "code",
   "execution_count": null,
   "metadata": {
    "Collapsed": "false"
   },
   "outputs": [],
   "source": []
  },
  {
   "cell_type": "markdown",
   "metadata": {
    "Collapsed": "false"
   },
   "source": [
    "# Classes"
   ]
  },
  {
   "cell_type": "markdown",
   "metadata": {
    "Collapsed": "false"
   },
   "source": [
    "Classes combine data and logic. Data stored in classes are called attributes, and the logic are functions which are called methods."
   ]
  },
  {
   "cell_type": "code",
   "execution_count": 104,
   "metadata": {
    "Collapsed": "false"
   },
   "outputs": [],
   "source": [
    "class ZeroBond:\n",
    "    \"\"\"A simple bond class\"\"\"\n",
    "    def __init__(self, value, N, I):\n",
    "        self.value = value\n",
    "        self.N = N\n",
    "        self.I = I\n",
    "        \n",
    "    def price(self):\n",
    "        return self.value / (1+self.I)**self.N"
   ]
  },
  {
   "cell_type": "code",
   "execution_count": 105,
   "metadata": {
    "Collapsed": "false"
   },
   "outputs": [],
   "source": [
    "zbond = ZeroBond(value = 100, N = 2, I=0.06)"
   ]
  },
  {
   "cell_type": "code",
   "execution_count": 106,
   "metadata": {
    "Collapsed": "false"
   },
   "outputs": [
    {
     "data": {
      "text/plain": [
       "88.99964400142399"
      ]
     },
     "execution_count": 106,
     "metadata": {},
     "output_type": "execute_result"
    }
   ],
   "source": [
    "zbond.price()"
   ]
  },
  {
   "cell_type": "markdown",
   "metadata": {
    "Collapsed": "false"
   },
   "source": [
    "# Probability"
   ]
  },
  {
   "cell_type": "markdown",
   "metadata": {
    "Collapsed": "false"
   },
   "source": [
    "https://docs.python.org/3/library/random.html"
   ]
  },
  {
   "cell_type": "code",
   "execution_count": 107,
   "metadata": {
    "Collapsed": "false"
   },
   "outputs": [],
   "source": [
    "import random"
   ]
  },
  {
   "cell_type": "code",
   "execution_count": 108,
   "metadata": {
    "Collapsed": "false"
   },
   "outputs": [],
   "source": [
    "coin = ['heads','tails']"
   ]
  },
  {
   "cell_type": "code",
   "execution_count": 109,
   "metadata": {
    "Collapsed": "false"
   },
   "outputs": [
    {
     "data": {
      "text/plain": [
       "'tails'"
      ]
     },
     "execution_count": 109,
     "metadata": {},
     "output_type": "execute_result"
    }
   ],
   "source": [
    "random.choice(coin)"
   ]
  },
  {
   "cell_type": "code",
   "execution_count": 110,
   "metadata": {
    "Collapsed": "false"
   },
   "outputs": [
    {
     "data": {
      "text/plain": [
       "4"
      ]
     },
     "execution_count": 110,
     "metadata": {},
     "output_type": "execute_result"
    }
   ],
   "source": [
    "dice_roll = random.randint(1, 6)\n",
    "dice_roll"
   ]
  },
  {
   "cell_type": "markdown",
   "metadata": {
    "Collapsed": "false"
   },
   "source": [
    "combination = order doesn't matter  \n",
    "$C(n, r) = \\begin{pmatrix}n \\\\ r\\end{pmatrix} = \\frac{n!}{(n−r)!r!}$  \n",
    "permutation = order matters  \n",
    "$P(n, r) = \\frac{n!}{(n−r)!}$  "
   ]
  },
  {
   "cell_type": "code",
   "execution_count": 6,
   "metadata": {
    "Collapsed": "false"
   },
   "outputs": [],
   "source": [
    "# if using python 3.8+ then math module includes comb perm\n",
    "# import math\n",
    "# math.comb(10,20)\n",
    "# math.perm(5,20)"
   ]
  },
  {
   "cell_type": "code",
   "execution_count": 1,
   "metadata": {
    "Collapsed": "false"
   },
   "outputs": [],
   "source": [
    "from scipy.special import comb, perm"
   ]
  },
  {
   "cell_type": "code",
   "execution_count": 10,
   "metadata": {
    "Collapsed": "false"
   },
   "outputs": [
    {
     "data": {
      "text/plain": [
       "\u001b[1;31mSignature:\u001b[0m \u001b[0mcomb\u001b[0m\u001b[1;33m(\u001b[0m\u001b[0mN\u001b[0m\u001b[1;33m,\u001b[0m \u001b[0mk\u001b[0m\u001b[1;33m,\u001b[0m \u001b[0mexact\u001b[0m\u001b[1;33m=\u001b[0m\u001b[1;32mFalse\u001b[0m\u001b[1;33m,\u001b[0m \u001b[0mrepetition\u001b[0m\u001b[1;33m=\u001b[0m\u001b[1;32mFalse\u001b[0m\u001b[1;33m)\u001b[0m\u001b[1;33m\u001b[0m\u001b[1;33m\u001b[0m\u001b[0m\n",
       "\u001b[1;31mDocstring:\u001b[0m\n",
       "The number of combinations of N things taken k at a time.\n",
       "\n",
       "This is often expressed as \"N choose k\".\n",
       "\n",
       "Parameters\n",
       "----------\n",
       "N : int, ndarray\n",
       "    Number of things.\n",
       "k : int, ndarray\n",
       "    Number of elements taken.\n",
       "exact : bool, optional\n",
       "    If `exact` is False, then floating point precision is used, otherwise\n",
       "    exact long integer is computed.\n",
       "repetition : bool, optional\n",
       "    If `repetition` is True, then the number of combinations with\n",
       "    repetition is computed.\n",
       "\n",
       "Returns\n",
       "-------\n",
       "val : int, float, ndarray\n",
       "    The total number of combinations.\n",
       "\n",
       "See Also\n",
       "--------\n",
       "binom : Binomial coefficient ufunc\n",
       "\n",
       "Notes\n",
       "-----\n",
       "- Array arguments accepted only for exact=False case.\n",
       "- If k > N, N < 0, or k < 0, then a 0 is returned.\n",
       "\n",
       "Examples\n",
       "--------\n",
       ">>> from scipy.special import comb\n",
       ">>> k = np.array([3, 4])\n",
       ">>> n = np.array([10, 10])\n",
       ">>> comb(n, k, exact=False)\n",
       "array([ 120.,  210.])\n",
       ">>> comb(10, 3, exact=True)\n",
       "120L\n",
       ">>> comb(10, 3, exact=True, repetition=True)\n",
       "220L\n",
       "\u001b[1;31mFile:\u001b[0m      f:\\anaconda3\\lib\\site-packages\\scipy\\special\\basic.py\n",
       "\u001b[1;31mType:\u001b[0m      function\n"
      ]
     },
     "metadata": {},
     "output_type": "display_data"
    }
   ],
   "source": [
    "comb?"
   ]
  },
  {
   "cell_type": "code",
   "execution_count": 11,
   "metadata": {
    "Collapsed": "false"
   },
   "outputs": [
    {
     "data": {
      "text/plain": [
       "15.0"
      ]
     },
     "execution_count": 11,
     "metadata": {},
     "output_type": "execute_result"
    }
   ],
   "source": [
    "comb(N=6, k=2)"
   ]
  },
  {
   "cell_type": "code",
   "execution_count": 12,
   "metadata": {
    "Collapsed": "false"
   },
   "outputs": [
    {
     "data": {
      "text/plain": [
       "\u001b[1;31mSignature:\u001b[0m \u001b[0mperm\u001b[0m\u001b[1;33m(\u001b[0m\u001b[0mN\u001b[0m\u001b[1;33m,\u001b[0m \u001b[0mk\u001b[0m\u001b[1;33m,\u001b[0m \u001b[0mexact\u001b[0m\u001b[1;33m=\u001b[0m\u001b[1;32mFalse\u001b[0m\u001b[1;33m)\u001b[0m\u001b[1;33m\u001b[0m\u001b[1;33m\u001b[0m\u001b[0m\n",
       "\u001b[1;31mDocstring:\u001b[0m\n",
       "Permutations of N things taken k at a time, i.e., k-permutations of N.\n",
       "\n",
       "It's also known as \"partial permutations\".\n",
       "\n",
       "Parameters\n",
       "----------\n",
       "N : int, ndarray\n",
       "    Number of things.\n",
       "k : int, ndarray\n",
       "    Number of elements taken.\n",
       "exact : bool, optional\n",
       "    If `exact` is False, then floating point precision is used, otherwise\n",
       "    exact long integer is computed.\n",
       "\n",
       "Returns\n",
       "-------\n",
       "val : int, ndarray\n",
       "    The number of k-permutations of N.\n",
       "\n",
       "Notes\n",
       "-----\n",
       "- Array arguments accepted only for exact=False case.\n",
       "- If k > N, N < 0, or k < 0, then a 0 is returned.\n",
       "\n",
       "Examples\n",
       "--------\n",
       ">>> from scipy.special import perm\n",
       ">>> k = np.array([3, 4])\n",
       ">>> n = np.array([10, 10])\n",
       ">>> perm(n, k)\n",
       "array([  720.,  5040.])\n",
       ">>> perm(10, 3, exact=True)\n",
       "720\n",
       "\u001b[1;31mFile:\u001b[0m      f:\\anaconda3\\lib\\site-packages\\scipy\\special\\basic.py\n",
       "\u001b[1;31mType:\u001b[0m      function\n"
      ]
     },
     "metadata": {},
     "output_type": "display_data"
    }
   ],
   "source": [
    "perm?"
   ]
  },
  {
   "cell_type": "code",
   "execution_count": 13,
   "metadata": {
    "Collapsed": "false"
   },
   "outputs": [
    {
     "data": {
      "text/plain": [
       "30.0"
      ]
     },
     "execution_count": 13,
     "metadata": {},
     "output_type": "execute_result"
    }
   ],
   "source": [
    "perm(N=6, k=2)"
   ]
  },
  {
   "cell_type": "markdown",
   "metadata": {
    "Collapsed": "false"
   },
   "source": [
    "# Statistics"
   ]
  },
  {
   "cell_type": "markdown",
   "metadata": {
    "Collapsed": "false"
   },
   "source": [
    "https://docs.python.org/3/library/statistics.html"
   ]
  },
  {
   "cell_type": "code",
   "execution_count": 14,
   "metadata": {
    "Collapsed": "false"
   },
   "outputs": [],
   "source": [
    "import statistics"
   ]
  },
  {
   "cell_type": "code",
   "execution_count": 15,
   "metadata": {
    "Collapsed": "false"
   },
   "outputs": [
    {
     "data": {
      "text/plain": [
       "\u001b[1;31mType:\u001b[0m        module\n",
       "\u001b[1;31mString form:\u001b[0m <module 'statistics' from 'F:\\\\Anaconda3\\\\lib\\\\statistics.py'>\n",
       "\u001b[1;31mFile:\u001b[0m        f:\\anaconda3\\lib\\statistics.py\n",
       "\u001b[1;31mDocstring:\u001b[0m  \n",
       "Basic statistics module.\n",
       "\n",
       "This module provides functions for calculating statistics of data, including\n",
       "averages, variance, and standard deviation.\n",
       "\n",
       "Calculating averages\n",
       "--------------------\n",
       "\n",
       "==================  =============================================\n",
       "Function            Description\n",
       "==================  =============================================\n",
       "mean                Arithmetic mean (average) of data.\n",
       "harmonic_mean       Harmonic mean of data.\n",
       "median              Median (middle value) of data.\n",
       "median_low          Low median of data.\n",
       "median_high         High median of data.\n",
       "median_grouped      Median, or 50th percentile, of grouped data.\n",
       "mode                Mode (most common value) of data.\n",
       "==================  =============================================\n",
       "\n",
       "Calculate the arithmetic mean (\"the average\") of data:\n",
       "\n",
       ">>> mean([-1.0, 2.5, 3.25, 5.75])\n",
       "2.625\n",
       "\n",
       "\n",
       "Calculate the standard median of discrete data:\n",
       "\n",
       ">>> median([2, 3, 4, 5])\n",
       "3.5\n",
       "\n",
       "\n",
       "Calculate the median, or 50th percentile, of data grouped into class intervals\n",
       "centred on the data values provided. E.g. if your data points are rounded to\n",
       "the nearest whole number:\n",
       "\n",
       ">>> median_grouped([2, 2, 3, 3, 3, 4])  #doctest: +ELLIPSIS\n",
       "2.8333333333...\n",
       "\n",
       "This should be interpreted in this way: you have two data points in the class\n",
       "interval 1.5-2.5, three data points in the class interval 2.5-3.5, and one in\n",
       "the class interval 3.5-4.5. The median of these data points is 2.8333...\n",
       "\n",
       "\n",
       "Calculating variability or spread\n",
       "---------------------------------\n",
       "\n",
       "==================  =============================================\n",
       "Function            Description\n",
       "==================  =============================================\n",
       "pvariance           Population variance of data.\n",
       "variance            Sample variance of data.\n",
       "pstdev              Population standard deviation of data.\n",
       "stdev               Sample standard deviation of data.\n",
       "==================  =============================================\n",
       "\n",
       "Calculate the standard deviation of sample data:\n",
       "\n",
       ">>> stdev([2.5, 3.25, 5.5, 11.25, 11.75])  #doctest: +ELLIPSIS\n",
       "4.38961843444...\n",
       "\n",
       "If you have previously calculated the mean, you can pass it as the optional\n",
       "second argument to the four \"spread\" functions to avoid recalculating it:\n",
       "\n",
       ">>> data = [1, 2, 2, 4, 4, 4, 5, 6]\n",
       ">>> mu = mean(data)\n",
       ">>> pvariance(data, mu)\n",
       "2.5\n",
       "\n",
       "\n",
       "Exceptions\n",
       "----------\n",
       "\n",
       "A single exception is defined: StatisticsError is a subclass of ValueError.\n"
      ]
     },
     "metadata": {},
     "output_type": "display_data"
    }
   ],
   "source": [
    "statistics?"
   ]
  },
  {
   "cell_type": "code",
   "execution_count": 16,
   "metadata": {
    "Collapsed": "false"
   },
   "outputs": [],
   "source": [
    "heights = [70, 71, 73, 66, 62, 70]"
   ]
  },
  {
   "cell_type": "code",
   "execution_count": 17,
   "metadata": {
    "Collapsed": "false"
   },
   "outputs": [
    {
     "data": {
      "text/plain": [
       "68.66666666666667"
      ]
     },
     "execution_count": 17,
     "metadata": {},
     "output_type": "execute_result"
    }
   ],
   "source": [
    "statistics.mean(heights)"
   ]
  },
  {
   "cell_type": "code",
   "execution_count": 18,
   "metadata": {
    "Collapsed": "false"
   },
   "outputs": [
    {
     "data": {
      "text/plain": [
       "70.0"
      ]
     },
     "execution_count": 18,
     "metadata": {},
     "output_type": "execute_result"
    }
   ],
   "source": [
    "statistics.median(heights)"
   ]
  },
  {
   "cell_type": "code",
   "execution_count": 19,
   "metadata": {
    "Collapsed": "false"
   },
   "outputs": [
    {
     "data": {
      "text/plain": [
       "70"
      ]
     },
     "execution_count": 19,
     "metadata": {},
     "output_type": "execute_result"
    }
   ],
   "source": [
    "statistics.mode(heights)"
   ]
  },
  {
   "cell_type": "code",
   "execution_count": 20,
   "metadata": {
    "Collapsed": "false"
   },
   "outputs": [
    {
     "data": {
      "text/plain": [
       "3.636237371545238"
      ]
     },
     "execution_count": 20,
     "metadata": {},
     "output_type": "execute_result"
    }
   ],
   "source": [
    "statistics.pstdev(heights)"
   ]
  },
  {
   "cell_type": "code",
   "execution_count": 21,
   "metadata": {
    "Collapsed": "false"
   },
   "outputs": [
    {
     "data": {
      "text/plain": [
       "13.222222222222221"
      ]
     },
     "execution_count": 21,
     "metadata": {},
     "output_type": "execute_result"
    }
   ],
   "source": [
    "statistics.pvariance(heights)"
   ]
  },
  {
   "cell_type": "markdown",
   "metadata": {
    "Collapsed": "false"
   },
   "source": [
    "# Dates and Datetime"
   ]
  },
  {
   "cell_type": "markdown",
   "metadata": {
    "Collapsed": "false"
   },
   "source": [
    "dates and datetimes (or time stamps) appear frequently in financial data."
   ]
  },
  {
   "cell_type": "code",
   "execution_count": 22,
   "metadata": {
    "Collapsed": "false"
   },
   "outputs": [],
   "source": [
    "from datetime import datetime"
   ]
  },
  {
   "cell_type": "code",
   "execution_count": 23,
   "metadata": {
    "Collapsed": "false"
   },
   "outputs": [
    {
     "data": {
      "text/plain": [
       "\u001b[1;31mInit signature:\u001b[0m \u001b[0mdatetime\u001b[0m\u001b[1;33m(\u001b[0m\u001b[0mself\u001b[0m\u001b[1;33m,\u001b[0m \u001b[1;33m/\u001b[0m\u001b[1;33m,\u001b[0m \u001b[1;33m*\u001b[0m\u001b[0margs\u001b[0m\u001b[1;33m,\u001b[0m \u001b[1;33m**\u001b[0m\u001b[0mkwargs\u001b[0m\u001b[1;33m)\u001b[0m\u001b[1;33m\u001b[0m\u001b[1;33m\u001b[0m\u001b[0m\n",
       "\u001b[1;31mDocstring:\u001b[0m     \n",
       "datetime(year, month, day[, hour[, minute[, second[, microsecond[,tzinfo]]]]])\n",
       "\n",
       "The year, month and day arguments are required. tzinfo may be None, or an\n",
       "instance of a tzinfo subclass. The remaining arguments may be ints.\n",
       "\u001b[1;31mFile:\u001b[0m           f:\\anaconda3\\lib\\datetime.py\n",
       "\u001b[1;31mType:\u001b[0m           type\n",
       "\u001b[1;31mSubclasses:\u001b[0m     datetime\n"
      ]
     },
     "metadata": {},
     "output_type": "display_data"
    }
   ],
   "source": [
    "datetime?"
   ]
  },
  {
   "cell_type": "code",
   "execution_count": 24,
   "metadata": {
    "Collapsed": "false"
   },
   "outputs": [
    {
     "data": {
      "text/plain": [
       "datetime.datetime(2019, 11, 1, 0, 0)"
      ]
     },
     "execution_count": 24,
     "metadata": {},
     "output_type": "execute_result"
    }
   ],
   "source": [
    "dt1 = datetime(2019,11,1)\n",
    "dt1"
   ]
  },
  {
   "cell_type": "code",
   "execution_count": 25,
   "metadata": {
    "Collapsed": "false"
   },
   "outputs": [
    {
     "data": {
      "text/plain": [
       "datetime.datetime(2019, 12, 8, 16, 56, 54, 667702)"
      ]
     },
     "execution_count": 25,
     "metadata": {},
     "output_type": "execute_result"
    }
   ],
   "source": [
    "datetime.today()"
   ]
  },
  {
   "cell_type": "code",
   "execution_count": 26,
   "metadata": {
    "Collapsed": "false"
   },
   "outputs": [
    {
     "data": {
      "text/plain": [
       "datetime.date(2019, 12, 8)"
      ]
     },
     "execution_count": 26,
     "metadata": {},
     "output_type": "execute_result"
    }
   ],
   "source": [
    "datetime.today().date()"
   ]
  },
  {
   "cell_type": "code",
   "execution_count": 27,
   "metadata": {
    "Collapsed": "false"
   },
   "outputs": [
    {
     "data": {
      "text/plain": [
       "datetime.datetime(2019, 12, 8, 16, 56, 56, 83369)"
      ]
     },
     "execution_count": 27,
     "metadata": {},
     "output_type": "execute_result"
    }
   ],
   "source": [
    "dt2 = datetime.now()\n",
    "dt2"
   ]
  },
  {
   "cell_type": "markdown",
   "metadata": {
    "Collapsed": "false"
   },
   "source": [
    "## date utilities"
   ]
  },
  {
   "cell_type": "code",
   "execution_count": 28,
   "metadata": {
    "Collapsed": "false"
   },
   "outputs": [],
   "source": [
    "from dateutil.relativedelta import relativedelta"
   ]
  },
  {
   "cell_type": "code",
   "execution_count": 29,
   "metadata": {
    "Collapsed": "false"
   },
   "outputs": [
    {
     "data": {
      "text/plain": [
       "relativedelta(months=-1, days=-7, hours=-16, minutes=-56, seconds=-57, microseconds=+916631)"
      ]
     },
     "execution_count": 29,
     "metadata": {},
     "output_type": "execute_result"
    }
   ],
   "source": [
    "delta = relativedelta(dt1, dt2)\n",
    "delta"
   ]
  },
  {
   "cell_type": "code",
   "execution_count": 30,
   "metadata": {
    "Collapsed": "false"
   },
   "outputs": [
    {
     "data": {
      "text/plain": [
       "-7"
      ]
     },
     "execution_count": 30,
     "metadata": {},
     "output_type": "execute_result"
    }
   ],
   "source": [
    "delta.days"
   ]
  },
  {
   "cell_type": "code",
   "execution_count": 31,
   "metadata": {
    "Collapsed": "false"
   },
   "outputs": [
    {
     "data": {
      "text/plain": [
       "datetime.datetime(2020, 8, 24, 7, 3, 3, 916631)"
      ]
     },
     "execution_count": 31,
     "metadata": {},
     "output_type": "execute_result"
    }
   ],
   "source": [
    "datetime(2020,10,1) + delta"
   ]
  },
  {
   "cell_type": "code",
   "execution_count": 32,
   "metadata": {
    "Collapsed": "false"
   },
   "outputs": [
    {
     "data": {
      "text/plain": [
       "'2019-11-01'"
      ]
     },
     "execution_count": 32,
     "metadata": {},
     "output_type": "execute_result"
    }
   ],
   "source": [
    "dt1.strftime('%Y-%m-%d')"
   ]
  },
  {
   "cell_type": "markdown",
   "metadata": {
    "Collapsed": "false"
   },
   "source": [
    "reference for time formatting: http://strftime.org/"
   ]
  },
  {
   "cell_type": "code",
   "execution_count": 33,
   "metadata": {
    "Collapsed": "false"
   },
   "outputs": [],
   "source": [
    "from dateutil.parser import parse"
   ]
  },
  {
   "cell_type": "code",
   "execution_count": 34,
   "metadata": {
    "Collapsed": "false"
   },
   "outputs": [
    {
     "data": {
      "text/plain": [
       "datetime.datetime(2020, 10, 1, 0, 0)"
      ]
     },
     "execution_count": 34,
     "metadata": {},
     "output_type": "execute_result"
    }
   ],
   "source": [
    "parse('2020-10-01') # string to date"
   ]
  },
  {
   "cell_type": "markdown",
   "metadata": {
    "Collapsed": "false"
   },
   "source": [
    "# IO"
   ]
  },
  {
   "cell_type": "code",
   "execution_count": 35,
   "metadata": {
    "Collapsed": "false"
   },
   "outputs": [
    {
     "name": "stdin",
     "output_type": "stream",
     "text": [
      "how old are you? 30\n"
     ]
    }
   ],
   "source": [
    "age = input('how old are you?')"
   ]
  },
  {
   "cell_type": "code",
   "execution_count": 36,
   "metadata": {
    "Collapsed": "false"
   },
   "outputs": [
    {
     "data": {
      "text/plain": [
       "'30'"
      ]
     },
     "execution_count": 36,
     "metadata": {},
     "output_type": "execute_result"
    }
   ],
   "source": [
    "age"
   ]
  },
  {
   "cell_type": "markdown",
   "metadata": {
    "Collapsed": "false"
   },
   "source": [
    "# File IO"
   ]
  },
  {
   "cell_type": "code",
   "execution_count": 136,
   "metadata": {
    "Collapsed": "false"
   },
   "outputs": [],
   "source": [
    "from pathlib import Path"
   ]
  },
  {
   "cell_type": "code",
   "execution_count": 137,
   "metadata": {
    "Collapsed": "false"
   },
   "outputs": [],
   "source": [
    "with open(Path('data/textfile.txt')) as f:\n",
    "    read_data = f.read() # reads the entire file"
   ]
  },
  {
   "cell_type": "code",
   "execution_count": 138,
   "metadata": {
    "Collapsed": "false"
   },
   "outputs": [
    {
     "data": {
      "text/plain": [
       "'somerandomdata\\nsomerandomdataline2'"
      ]
     },
     "execution_count": 138,
     "metadata": {},
     "output_type": "execute_result"
    }
   ],
   "source": [
    "read_data"
   ]
  },
  {
   "cell_type": "code",
   "execution_count": 139,
   "metadata": {
    "Collapsed": "false"
   },
   "outputs": [],
   "source": [
    "with open(Path('data/textfile.txt')) as f:\n",
    "    read_line = f.readline() # reads a single line"
   ]
  },
  {
   "cell_type": "code",
   "execution_count": 140,
   "metadata": {
    "Collapsed": "false"
   },
   "outputs": [
    {
     "data": {
      "text/plain": [
       "'somerandomdata\\n'"
      ]
     },
     "execution_count": 140,
     "metadata": {},
     "output_type": "execute_result"
    }
   ],
   "source": [
    "read_line"
   ]
  },
  {
   "cell_type": "code",
   "execution_count": 141,
   "metadata": {
    "Collapsed": "false"
   },
   "outputs": [],
   "source": [
    "with open(Path('data/textfile.txt')) as f:\n",
    "    read_line = f.readline() # reads a single line"
   ]
  },
  {
   "cell_type": "code",
   "execution_count": 142,
   "metadata": {
    "Collapsed": "false"
   },
   "outputs": [],
   "source": [
    "import os"
   ]
  },
  {
   "cell_type": "markdown",
   "metadata": {
    "Collapsed": "false"
   },
   "source": [
    "# JSON"
   ]
  },
  {
   "cell_type": "code",
   "execution_count": 143,
   "metadata": {
    "Collapsed": "false"
   },
   "outputs": [],
   "source": [
    "import json"
   ]
  },
  {
   "cell_type": "code",
   "execution_count": 144,
   "metadata": {
    "Collapsed": "false"
   },
   "outputs": [],
   "source": [
    "with open(Path('data/sample.json')) as f:\n",
    "    json_data = json.load(f) # reads the entire file"
   ]
  },
  {
   "cell_type": "code",
   "execution_count": 145,
   "metadata": {
    "Collapsed": "false"
   },
   "outputs": [
    {
     "data": {
      "text/plain": [
       "{'glossary': {'title': 'example glossary',\n",
       "  'GlossDiv': {'title': 'S',\n",
       "   'GlossList': {'GlossEntry': {'ID': 'SGML',\n",
       "     'SortAs': 'SGML',\n",
       "     'GlossTerm': 'Standard Generalized Markup Language',\n",
       "     'Acronym': 'SGML',\n",
       "     'Abbrev': 'ISO 8879:1986',\n",
       "     'GlossDef': {'para': 'A meta-markup language, used to create markup languages such as DocBook.',\n",
       "      'GlossSeeAlso': ['GML', 'XML']},\n",
       "     'GlossSee': 'markup'}}}}}"
      ]
     },
     "execution_count": 145,
     "metadata": {},
     "output_type": "execute_result"
    }
   ],
   "source": [
    "json_data # is a dictionary now"
   ]
  },
  {
   "cell_type": "code",
   "execution_count": 146,
   "metadata": {
    "Collapsed": "false"
   },
   "outputs": [
    {
     "data": {
      "text/plain": [
       "{'title': 'example glossary',\n",
       " 'GlossDiv': {'title': 'S',\n",
       "  'GlossList': {'GlossEntry': {'ID': 'SGML',\n",
       "    'SortAs': 'SGML',\n",
       "    'GlossTerm': 'Standard Generalized Markup Language',\n",
       "    'Acronym': 'SGML',\n",
       "    'Abbrev': 'ISO 8879:1986',\n",
       "    'GlossDef': {'para': 'A meta-markup language, used to create markup languages such as DocBook.',\n",
       "     'GlossSeeAlso': ['GML', 'XML']},\n",
       "    'GlossSee': 'markup'}}}}"
      ]
     },
     "execution_count": 146,
     "metadata": {},
     "output_type": "execute_result"
    }
   ],
   "source": [
    "json_data['glossary']"
   ]
  },
  {
   "cell_type": "markdown",
   "metadata": {
    "Collapsed": "false"
   },
   "source": [
    "# Requests"
   ]
  },
  {
   "cell_type": "code",
   "execution_count": 147,
   "metadata": {
    "Collapsed": "false"
   },
   "outputs": [],
   "source": [
    "import requests"
   ]
  },
  {
   "cell_type": "code",
   "execution_count": 148,
   "metadata": {
    "Collapsed": "false"
   },
   "outputs": [],
   "source": [
    "xml_data = requests.get('https://data.treasury.gov/feed.svc/DailyTreasuryYieldCurveRateData?$filter=month(NEW_DATE)%20eq%2010%20and%20year(NEW_DATE)%20eq%202019')"
   ]
  },
  {
   "cell_type": "code",
   "execution_count": 149,
   "metadata": {
    "Collapsed": "false"
   },
   "outputs": [],
   "source": [
    "import xml.etree.ElementTree as ET\n",
    "root = ET.fromstring(xml_data.text)"
   ]
  },
  {
   "cell_type": "code",
   "execution_count": 150,
   "metadata": {
    "Collapsed": "false"
   },
   "outputs": [],
   "source": [
    "ell = root[4][6][0]"
   ]
  },
  {
   "cell_type": "code",
   "execution_count": 151,
   "metadata": {
    "Collapsed": "false"
   },
   "outputs": [
    {
     "data": {
      "text/plain": [
       "[<Element '{http://schemas.microsoft.com/ado/2007/08/dataservices}Id' at 0x00000139DF538C78>,\n",
       " <Element '{http://schemas.microsoft.com/ado/2007/08/dataservices}NEW_DATE' at 0x00000139DF538868>,\n",
       " <Element '{http://schemas.microsoft.com/ado/2007/08/dataservices}BC_1MONTH' at 0x00000139DF538A48>,\n",
       " <Element '{http://schemas.microsoft.com/ado/2007/08/dataservices}BC_2MONTH' at 0x00000139DF538CC8>,\n",
       " <Element '{http://schemas.microsoft.com/ado/2007/08/dataservices}BC_3MONTH' at 0x00000139DF538958>,\n",
       " <Element '{http://schemas.microsoft.com/ado/2007/08/dataservices}BC_6MONTH' at 0x00000139DF5384F8>,\n",
       " <Element '{http://schemas.microsoft.com/ado/2007/08/dataservices}BC_1YEAR' at 0x00000139DF538F48>,\n",
       " <Element '{http://schemas.microsoft.com/ado/2007/08/dataservices}BC_2YEAR' at 0x00000139DF538EA8>,\n",
       " <Element '{http://schemas.microsoft.com/ado/2007/08/dataservices}BC_3YEAR' at 0x00000139DF538D68>,\n",
       " <Element '{http://schemas.microsoft.com/ado/2007/08/dataservices}BC_5YEAR' at 0x00000139DEA32318>,\n",
       " <Element '{http://schemas.microsoft.com/ado/2007/08/dataservices}BC_7YEAR' at 0x00000139DEA326D8>,\n",
       " <Element '{http://schemas.microsoft.com/ado/2007/08/dataservices}BC_10YEAR' at 0x00000139DEA32958>,\n",
       " <Element '{http://schemas.microsoft.com/ado/2007/08/dataservices}BC_20YEAR' at 0x00000139DEA32908>,\n",
       " <Element '{http://schemas.microsoft.com/ado/2007/08/dataservices}BC_30YEAR' at 0x00000139DEA32A98>,\n",
       " <Element '{http://schemas.microsoft.com/ado/2007/08/dataservices}BC_30YEARDISPLAY' at 0x00000139DEA32D68>]"
      ]
     },
     "execution_count": 151,
     "metadata": {},
     "output_type": "execute_result"
    }
   ],
   "source": [
    "list(ell)"
   ]
  },
  {
   "cell_type": "code",
   "execution_count": 152,
   "metadata": {
    "Collapsed": "false"
   },
   "outputs": [],
   "source": [
    "ell2 = list(ell)[3]"
   ]
  },
  {
   "cell_type": "code",
   "execution_count": 153,
   "metadata": {
    "Collapsed": "false"
   },
   "outputs": [
    {
     "data": {
      "text/plain": [
       "'1.77'"
      ]
     },
     "execution_count": 153,
     "metadata": {},
     "output_type": "execute_result"
    }
   ],
   "source": [
    "ell2.text"
   ]
  },
  {
   "cell_type": "code",
   "execution_count": null,
   "metadata": {
    "Collapsed": "false"
   },
   "outputs": [],
   "source": []
  }
 ],
 "metadata": {
  "kernelspec": {
   "display_name": "Python 3",
   "language": "python",
   "name": "python3"
  },
  "language_info": {
   "codemirror_mode": {
    "name": "ipython",
    "version": 3
   },
   "file_extension": ".py",
   "mimetype": "text/x-python",
   "name": "python",
   "nbconvert_exporter": "python",
   "pygments_lexer": "ipython3",
   "version": "3.7.4"
  }
 },
 "nbformat": 4,
 "nbformat_minor": 4
}
