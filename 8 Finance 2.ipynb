{
 "cells": [
  {
   "cell_type": "markdown",
   "metadata": {
    "Collapsed": "false"
   },
   "source": [
    "# Bonds"
   ]
  },
  {
   "cell_type": "code",
   "execution_count": 1,
   "metadata": {
    "Collapsed": "false"
   },
   "outputs": [],
   "source": [
    "import pandas as pd\n",
    "import numpy as np"
   ]
  },
  {
   "cell_type": "markdown",
   "metadata": {
    "Collapsed": "false"
   },
   "source": [
    "Below example follows SCHWESERNOTES™ 2019 LEVEL I CFA® BOOK 5: FIXED INCOME, DERIVATIVES, AND\n",
    "ALTERNATIVE INVESTMENTS:\n",
    "\n",
    "Consider a newly issued 10-year, \\\\$1,000 par value, 10% coupon, annual-pay bond. The\n",
    "coupon payments will be $100 at the end of each year the \\\\$1,000 par value will be paid\n",
    "at the end of year 10. What are the various present values for discount factors of 0.12, 0.10, and 0.08?"
   ]
  },
  {
   "cell_type": "code",
   "execution_count": 2,
   "metadata": {
    "Collapsed": "false"
   },
   "outputs": [],
   "source": [
    "discount_rates = np.array([0.12, 0.10, 0.08])"
   ]
  },
  {
   "cell_type": "code",
   "execution_count": 3,
   "metadata": {
    "Collapsed": "false"
   },
   "outputs": [
    {
     "data": {
      "text/plain": [
       "array([ -886.99553943, -1000.        , -1134.20162798])"
      ]
     },
     "execution_count": 3,
     "metadata": {},
     "output_type": "execute_result"
    }
   ],
   "source": [
    "pvs = np.pv(fv=1000, rate=discount_rates, nper=10,pmt=100)\n",
    "pvs"
   ]
  },
  {
   "cell_type": "markdown",
   "metadata": {
    "Collapsed": "false"
   },
   "source": [
    "This shows us that as the discount rate **increases** the value, or price, of a bond **decreases**.\n",
    "\n",
    "Calculating the value of the same bond with semmiannual payments:"
   ]
  },
  {
   "cell_type": "code",
   "execution_count": 4,
   "metadata": {
    "Collapsed": "false"
   },
   "outputs": [
    {
     "data": {
      "text/plain": [
       "array([ -885.30078781, -1000.        , -1135.90326345])"
      ]
     },
     "execution_count": 4,
     "metadata": {},
     "output_type": "execute_result"
    }
   ],
   "source": [
    "pvs = np.pv(fv=1000, rate=discount_rates/2, nper=20,pmt=50)\n",
    "pvs"
   ]
  },
  {
   "cell_type": "markdown",
   "metadata": {
    "Collapsed": "false"
   },
   "source": [
    "**zero-coupon bonds** have no coupons, therefore:"
   ]
  },
  {
   "cell_type": "code",
   "execution_count": 5,
   "metadata": {
    "Collapsed": "false"
   },
   "outputs": [
    {
     "data": {
      "text/plain": [
       "array([-321.97323659, -385.54328943, -463.19348808])"
      ]
     },
     "execution_count": 5,
     "metadata": {},
     "output_type": "execute_result"
    }
   ],
   "source": [
    "pvs = np.pv(fv=1000, rate=discount_rates, nper=10, pmt=0)\n",
    "pvs"
   ]
  },
  {
   "cell_type": "markdown",
   "metadata": {
    "Collapsed": "false"
   },
   "source": [
    "We can also use numpy to *find* the discount rate given a bond's price and par value."
   ]
  },
  {
   "cell_type": "code",
   "execution_count": 6,
   "metadata": {
    "Collapsed": "false"
   },
   "outputs": [
    {
     "data": {
      "text/plain": [
       "array([0.12, 0.1 , 0.08])"
      ]
     },
     "execution_count": 6,
     "metadata": {},
     "output_type": "execute_result"
    }
   ],
   "source": [
    "np.rate(nper=10, pmt=100, pv=np.array([ -886.99553943, -1000, -1134.20162798]), fv=1000)"
   ]
  },
  {
   "cell_type": "markdown",
   "metadata": {
    "Collapsed": "false"
   },
   "source": [
    "In reality the discount rate changes according to the market rate at different times, therefore:"
   ]
  },
  {
   "cell_type": "code",
   "execution_count": 7,
   "metadata": {
    "Collapsed": "false"
   },
   "outputs": [
    {
     "name": "stdout",
     "output_type": "stream",
     "text": [
      "YTM = 4.93%\n"
     ]
    }
   ],
   "source": [
    "ytm = np.rate(nper=3, pmt=50, pv=-1001.80, fv=1000)\n",
    "print(f'YTM = {round(ytm*100, 2)}%')"
   ]
  },
  {
   "cell_type": "markdown",
   "metadata": {
    "Collapsed": "false"
   },
   "source": [
    "Where **YTM** is the yield to maturity, the discount rate at which the sum of all future cash flows from the bond (coupons and principal) is equal to the current price of the bond. In other words, it is the internal rate of return if the investor holds the bond until maturity.\n",
    "\n",
    "Source: https://www.investopedia.com/terms/y/yieldtomaturity.asp"
   ]
  },
  {
   "cell_type": "code",
   "execution_count": 8,
   "metadata": {
    "Collapsed": "false"
   },
   "outputs": [
    {
     "data": {
      "text/plain": [
       "-1085.4578074821281"
      ]
     },
     "execution_count": 8,
     "metadata": {},
     "output_type": "execute_result"
    }
   ],
   "source": [
    "np.pv(fv=1000, rate=0.015, nper=6,pmt=30)"
   ]
  },
  {
   "cell_type": "markdown",
   "metadata": {
    "Collapsed": "false"
   },
   "source": [
    "# Loans"
   ]
  },
  {
   "cell_type": "markdown",
   "metadata": {
    "Collapsed": "false"
   },
   "source": [
    "What is the monthly payment needed to pay off a \\\\$450,000 loan in 30 years at an annual interest rate of 4.0%?"
   ]
  },
  {
   "cell_type": "code",
   "execution_count": 10,
   "metadata": {
    "Collapsed": "false"
   },
   "outputs": [
    {
     "data": {
      "text/plain": [
       "\u001b[1;31mSignature:\u001b[0m \u001b[0mnp\u001b[0m\u001b[1;33m.\u001b[0m\u001b[0mpmt\u001b[0m\u001b[1;33m(\u001b[0m\u001b[0mrate\u001b[0m\u001b[1;33m,\u001b[0m \u001b[0mnper\u001b[0m\u001b[1;33m,\u001b[0m \u001b[0mpv\u001b[0m\u001b[1;33m,\u001b[0m \u001b[0mfv\u001b[0m\u001b[1;33m=\u001b[0m\u001b[1;36m0\u001b[0m\u001b[1;33m,\u001b[0m \u001b[0mwhen\u001b[0m\u001b[1;33m=\u001b[0m\u001b[1;34m'end'\u001b[0m\u001b[1;33m)\u001b[0m\u001b[1;33m\u001b[0m\u001b[1;33m\u001b[0m\u001b[0m\n",
       "\u001b[1;31mDocstring:\u001b[0m\n",
       "Compute the payment against loan principal plus interest.\n",
       "\n",
       "Given:\n",
       " * a present value, `pv` (e.g., an amount borrowed)\n",
       " * a future value, `fv` (e.g., 0)\n",
       " * an interest `rate` compounded once per period, of which\n",
       "   there are\n",
       " * `nper` total\n",
       " * and (optional) specification of whether payment is made\n",
       "   at the beginning (`when` = {'begin', 1}) or the end\n",
       "   (`when` = {'end', 0}) of each period\n",
       "\n",
       "Return:\n",
       "   the (fixed) periodic payment.\n",
       "\n",
       "Parameters\n",
       "----------\n",
       "rate : array_like\n",
       "    Rate of interest (per period)\n",
       "nper : array_like\n",
       "    Number of compounding periods\n",
       "pv : array_like\n",
       "    Present value\n",
       "fv : array_like,  optional\n",
       "    Future value (default = 0)\n",
       "when : {{'begin', 1}, {'end', 0}}, {string, int}\n",
       "    When payments are due ('begin' (1) or 'end' (0))\n",
       "\n",
       "Returns\n",
       "-------\n",
       "out : ndarray\n",
       "    Payment against loan plus interest.  If all input is scalar, returns a\n",
       "    scalar float.  If any input is array_like, returns payment for each\n",
       "    input element. If multiple inputs are array_like, they all must have\n",
       "    the same shape.\n",
       "\n",
       "Notes\n",
       "-----\n",
       "The payment is computed by solving the equation::\n",
       "\n",
       " fv +\n",
       " pv*(1 + rate)**nper +\n",
       " pmt*(1 + rate*when)/rate*((1 + rate)**nper - 1) == 0\n",
       "\n",
       "or, when ``rate == 0``::\n",
       "\n",
       "  fv + pv + pmt * nper == 0\n",
       "\n",
       "for ``pmt``.\n",
       "\n",
       "Note that computing a monthly mortgage payment is only\n",
       "one use for this function.  For example, pmt returns the\n",
       "periodic deposit one must make to achieve a specified\n",
       "future balance given an initial deposit, a fixed,\n",
       "periodically compounded interest rate, and the total\n",
       "number of periods.\n",
       "\n",
       "References\n",
       "----------\n",
       ".. [WRW] Wheeler, D. A., E. Rathke, and R. Weir (Eds.) (2009, May).\n",
       "   Open Document Format for Office Applications (OpenDocument)v1.2,\n",
       "   Part 2: Recalculated Formula (OpenFormula) Format - Annotated Version,\n",
       "   Pre-Draft 12. Organization for the Advancement of Structured Information\n",
       "   Standards (OASIS). Billerica, MA, USA. [ODT Document].\n",
       "   Available:\n",
       "   http://www.oasis-open.org/committees/documents.php\n",
       "   ?wg_abbrev=office-formulaOpenDocument-formula-20090508.odt\n",
       "\n",
       "Examples\n",
       "--------\n",
       "What is the monthly payment needed to pay off a $200,000 loan in 15\n",
       "years at an annual interest rate of 7.5%?\n",
       "\n",
       ">>> np.pmt(0.075/12, 12*15, 200000)\n",
       "-1854.0247200054619\n",
       "\n",
       "In order to pay-off (i.e., have a future-value of 0) the $200,000 obtained\n",
       "today, a monthly payment of $1,854.02 would be required.  Note that this\n",
       "example illustrates usage of `fv` having a default value of 0.\n",
       "\u001b[1;31mFile:\u001b[0m      f:\\anaconda3\\envs\\pyfied\\lib\\site-packages\\numpy\\lib\\financial.py\n",
       "\u001b[1;31mType:\u001b[0m      function\n"
      ]
     },
     "metadata": {},
     "output_type": "display_data"
    }
   ],
   "source": [
    "np.pmt?"
   ]
  },
  {
   "cell_type": "code",
   "execution_count": 11,
   "metadata": {
    "Collapsed": "false"
   },
   "outputs": [
    {
     "name": "stdout",
     "output_type": "stream",
     "text": [
      "PMT = $2148.37\n"
     ]
    }
   ],
   "source": [
    "pmt = np.pmt(rate=0.04/12, nper=12*30, pv=450000, fv=0)\n",
    "print(f'PMT = ${round(abs(pmt), 2)}')"
   ]
  },
  {
   "cell_type": "markdown",
   "metadata": {
    "Collapsed": "false"
   },
   "source": [
    "The principal portion of the payment for a given period becomes:"
   ]
  },
  {
   "cell_type": "code",
   "execution_count": 12,
   "metadata": {
    "Collapsed": "false"
   },
   "outputs": [
    {
     "name": "stdout",
     "output_type": "stream",
     "text": [
      "PPMT = $648.37\n"
     ]
    }
   ],
   "source": [
    "ppmt = np.ppmt(rate=0.04/12, per=1, nper=12*30, pv=450000, fv=0)\n",
    "print(f'PPMT = ${round(abs(ppmt), 2)}')"
   ]
  },
  {
   "cell_type": "markdown",
   "metadata": {
    "Collapsed": "false"
   },
   "source": [
    "And the interest portion of the payment for a given period becomes:"
   ]
  },
  {
   "cell_type": "code",
   "execution_count": 13,
   "metadata": {
    "Collapsed": "false"
   },
   "outputs": [
    {
     "name": "stdout",
     "output_type": "stream",
     "text": [
      "PPMT = $1500.0\n"
     ]
    }
   ],
   "source": [
    "ipmt = np.ipmt(rate=0.04/12, per=1, nper=12*30, pv=450000, fv=0)\n",
    "print(f'PPMT = ${round(abs(ipmt), 2)}')"
   ]
  },
  {
   "cell_type": "markdown",
   "metadata": {
    "Collapsed": "false"
   },
   "source": [
    "We can create an amortization schedule by using a pandas dataframe and lessons from the Data Analysis notebooks:"
   ]
  },
  {
   "cell_type": "code",
   "execution_count": 14,
   "metadata": {
    "Collapsed": "false"
   },
   "outputs": [],
   "source": [
    "amortization = pd.DataFrame({'period':np.arange(12*30)+1})"
   ]
  },
  {
   "cell_type": "code",
   "execution_count": 15,
   "metadata": {
    "Collapsed": "false"
   },
   "outputs": [
    {
     "data": {
      "text/html": [
       "<div>\n",
       "<style scoped>\n",
       "    .dataframe tbody tr th:only-of-type {\n",
       "        vertical-align: middle;\n",
       "    }\n",
       "\n",
       "    .dataframe tbody tr th {\n",
       "        vertical-align: top;\n",
       "    }\n",
       "\n",
       "    .dataframe thead th {\n",
       "        text-align: right;\n",
       "    }\n",
       "</style>\n",
       "<table border=\"1\" class=\"dataframe\">\n",
       "  <thead>\n",
       "    <tr style=\"text-align: right;\">\n",
       "      <th></th>\n",
       "      <th>period</th>\n",
       "    </tr>\n",
       "  </thead>\n",
       "  <tbody>\n",
       "    <tr>\n",
       "      <th>0</th>\n",
       "      <td>1</td>\n",
       "    </tr>\n",
       "    <tr>\n",
       "      <th>1</th>\n",
       "      <td>2</td>\n",
       "    </tr>\n",
       "    <tr>\n",
       "      <th>2</th>\n",
       "      <td>3</td>\n",
       "    </tr>\n",
       "    <tr>\n",
       "      <th>3</th>\n",
       "      <td>4</td>\n",
       "    </tr>\n",
       "    <tr>\n",
       "      <th>4</th>\n",
       "      <td>5</td>\n",
       "    </tr>\n",
       "  </tbody>\n",
       "</table>\n",
       "</div>"
      ],
      "text/plain": [
       "   period\n",
       "0       1\n",
       "1       2\n",
       "2       3\n",
       "3       4\n",
       "4       5"
      ]
     },
     "execution_count": 15,
     "metadata": {},
     "output_type": "execute_result"
    }
   ],
   "source": [
    "amortization.head()"
   ]
  },
  {
   "cell_type": "code",
   "execution_count": 16,
   "metadata": {
    "Collapsed": "false"
   },
   "outputs": [],
   "source": [
    "amortization['principal'] = np.abs(np.ppmt(rate=0.04/12, per=amortization.period, nper=12*30, pv=450000, fv=0))"
   ]
  },
  {
   "cell_type": "code",
   "execution_count": 17,
   "metadata": {
    "Collapsed": "false"
   },
   "outputs": [],
   "source": [
    "amortization['interest'] = np.abs(np.ipmt(rate=0.04/12, per=amortization.period, nper=12*30, pv=450000, fv=0))"
   ]
  },
  {
   "cell_type": "code",
   "execution_count": 18,
   "metadata": {
    "Collapsed": "false"
   },
   "outputs": [],
   "source": [
    "amortization['payment'] = amortization['principal'] + amortization['interest'] "
   ]
  },
  {
   "cell_type": "code",
   "execution_count": 19,
   "metadata": {
    "Collapsed": "false"
   },
   "outputs": [],
   "source": [
    "amortization['balance'] = 450000 - amortization['principal'].cumsum()"
   ]
  },
  {
   "cell_type": "code",
   "execution_count": 20,
   "metadata": {
    "Collapsed": "false"
   },
   "outputs": [],
   "source": [
    "pd.options.display.float_format = '{:,.2f}'.format"
   ]
  },
  {
   "cell_type": "code",
   "execution_count": 21,
   "metadata": {
    "Collapsed": "false"
   },
   "outputs": [
    {
     "data": {
      "text/html": [
       "<div>\n",
       "<style scoped>\n",
       "    .dataframe tbody tr th:only-of-type {\n",
       "        vertical-align: middle;\n",
       "    }\n",
       "\n",
       "    .dataframe tbody tr th {\n",
       "        vertical-align: top;\n",
       "    }\n",
       "\n",
       "    .dataframe thead th {\n",
       "        text-align: right;\n",
       "    }\n",
       "</style>\n",
       "<table border=\"1\" class=\"dataframe\">\n",
       "  <thead>\n",
       "    <tr style=\"text-align: right;\">\n",
       "      <th></th>\n",
       "      <th>period</th>\n",
       "      <th>principal</th>\n",
       "      <th>interest</th>\n",
       "      <th>payment</th>\n",
       "      <th>balance</th>\n",
       "    </tr>\n",
       "  </thead>\n",
       "  <tbody>\n",
       "    <tr>\n",
       "      <th>0</th>\n",
       "      <td>1</td>\n",
       "      <td>648.37</td>\n",
       "      <td>1,500.00</td>\n",
       "      <td>2,148.37</td>\n",
       "      <td>449,351.63</td>\n",
       "    </tr>\n",
       "    <tr>\n",
       "      <th>1</th>\n",
       "      <td>2</td>\n",
       "      <td>650.53</td>\n",
       "      <td>1,497.84</td>\n",
       "      <td>2,148.37</td>\n",
       "      <td>448,701.10</td>\n",
       "    </tr>\n",
       "    <tr>\n",
       "      <th>2</th>\n",
       "      <td>3</td>\n",
       "      <td>652.70</td>\n",
       "      <td>1,495.67</td>\n",
       "      <td>2,148.37</td>\n",
       "      <td>448,048.40</td>\n",
       "    </tr>\n",
       "    <tr>\n",
       "      <th>3</th>\n",
       "      <td>4</td>\n",
       "      <td>654.87</td>\n",
       "      <td>1,493.49</td>\n",
       "      <td>2,148.37</td>\n",
       "      <td>447,393.53</td>\n",
       "    </tr>\n",
       "    <tr>\n",
       "      <th>4</th>\n",
       "      <td>5</td>\n",
       "      <td>657.06</td>\n",
       "      <td>1,491.31</td>\n",
       "      <td>2,148.37</td>\n",
       "      <td>446,736.47</td>\n",
       "    </tr>\n",
       "    <tr>\n",
       "      <th>...</th>\n",
       "      <td>...</td>\n",
       "      <td>...</td>\n",
       "      <td>...</td>\n",
       "      <td>...</td>\n",
       "      <td>...</td>\n",
       "    </tr>\n",
       "    <tr>\n",
       "      <th>355</th>\n",
       "      <td>356</td>\n",
       "      <td>2,112.92</td>\n",
       "      <td>35.45</td>\n",
       "      <td>2,148.37</td>\n",
       "      <td>8,522.34</td>\n",
       "    </tr>\n",
       "    <tr>\n",
       "      <th>356</th>\n",
       "      <td>357</td>\n",
       "      <td>2,119.96</td>\n",
       "      <td>28.41</td>\n",
       "      <td>2,148.37</td>\n",
       "      <td>6,402.38</td>\n",
       "    </tr>\n",
       "    <tr>\n",
       "      <th>357</th>\n",
       "      <td>358</td>\n",
       "      <td>2,127.03</td>\n",
       "      <td>21.34</td>\n",
       "      <td>2,148.37</td>\n",
       "      <td>4,275.35</td>\n",
       "    </tr>\n",
       "    <tr>\n",
       "      <th>358</th>\n",
       "      <td>359</td>\n",
       "      <td>2,134.12</td>\n",
       "      <td>14.25</td>\n",
       "      <td>2,148.37</td>\n",
       "      <td>2,141.23</td>\n",
       "    </tr>\n",
       "    <tr>\n",
       "      <th>359</th>\n",
       "      <td>360</td>\n",
       "      <td>2,141.23</td>\n",
       "      <td>7.14</td>\n",
       "      <td>2,148.37</td>\n",
       "      <td>0.00</td>\n",
       "    </tr>\n",
       "  </tbody>\n",
       "</table>\n",
       "<p>360 rows × 5 columns</p>\n",
       "</div>"
      ],
      "text/plain": [
       "     period  principal  interest  payment    balance\n",
       "0         1     648.37  1,500.00 2,148.37 449,351.63\n",
       "1         2     650.53  1,497.84 2,148.37 448,701.10\n",
       "2         3     652.70  1,495.67 2,148.37 448,048.40\n",
       "3         4     654.87  1,493.49 2,148.37 447,393.53\n",
       "4         5     657.06  1,491.31 2,148.37 446,736.47\n",
       "..      ...        ...       ...      ...        ...\n",
       "355     356   2,112.92     35.45 2,148.37   8,522.34\n",
       "356     357   2,119.96     28.41 2,148.37   6,402.38\n",
       "357     358   2,127.03     21.34 2,148.37   4,275.35\n",
       "358     359   2,134.12     14.25 2,148.37   2,141.23\n",
       "359     360   2,141.23      7.14 2,148.37       0.00\n",
       "\n",
       "[360 rows x 5 columns]"
      ]
     },
     "execution_count": 21,
     "metadata": {},
     "output_type": "execute_result"
    }
   ],
   "source": [
    "amortization"
   ]
  },
  {
   "cell_type": "code",
   "execution_count": null,
   "metadata": {
    "Collapsed": "false"
   },
   "outputs": [],
   "source": []
  }
 ],
 "metadata": {
  "kernelspec": {
   "display_name": "Python [conda env:pyfied]",
   "language": "python",
   "name": "conda-env-pyfied-py"
  },
  "language_info": {
   "codemirror_mode": {
    "name": "ipython",
    "version": 3
   },
   "file_extension": ".py",
   "mimetype": "text/x-python",
   "name": "python",
   "nbconvert_exporter": "python",
   "pygments_lexer": "ipython3",
   "version": "3.7.5"
  }
 },
 "nbformat": 4,
 "nbformat_minor": 4
}
