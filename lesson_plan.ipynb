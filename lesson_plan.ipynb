{
 "cells": [
  {
   "cell_type": "code",
   "execution_count": null,
   "metadata": {
    "Collapsed": "false"
   },
   "outputs": [],
   "source": []
  },
  {
   "cell_type": "markdown",
   "metadata": {
    "Collapsed": "false"
   },
   "source": [
    "# TODO (Miguel)\n",
    "argument for python (scale, testing, version control, auditability, maintainability)  \n",
    "emails  \n",
    "pandas_reader  \n",
    "excel to pandas comparison  \n",
    "algorithmic/computational thinking  \n",
    "python scientific computing stack  \n",
    "currency conversion  \n",
    "weighted average  \n",
    "how to read python errors\n",
    "extract data from pdf"
   ]
  }
 ],
 "metadata": {
  "kernelspec": {
   "display_name": "Python 3",
   "language": "python",
   "name": "python3"
  },
  "language_info": {
   "codemirror_mode": {
    "name": "ipython",
    "version": 3
   },
   "file_extension": ".py",
   "mimetype": "text/x-python",
   "name": "python",
   "nbconvert_exporter": "python",
   "pygments_lexer": "ipython3",
   "version": "3.7.4"
  }
 },
 "nbformat": 4,
 "nbformat_minor": 4
}
